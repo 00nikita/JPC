{
 "cells": [
  {
   "cell_type": "markdown",
   "id": "27bec219",
   "metadata": {},
   "source": [
    "# 17-10-22"
   ]
  },
  {
   "cell_type": "code",
   "execution_count": null,
   "id": "eaf50570",
   "metadata": {},
   "outputs": [],
   "source": []
  },
  {
   "cell_type": "raw",
   "id": "4c24377d",
   "metadata": {},
   "source": [
    " This is to show current directory\n",
    "- pwd\n"
   ]
  },
  {
   "cell_type": "raw",
   "id": "3b6b6fcc",
   "metadata": {},
   "source": [
    "General purpose programming lang\n",
    "\n",
    "Easy syntax --> C\n",
    "Indentation --> To represent a block of code\n",
    "Data Science--> Numpy, Scipy, Pandas\n",
    "ML --> sklearn, statsmodule\n",
    "IOT --> Ordinov, Raspberry pi\n",
    "Deep Learning --> Tensorflow(keras),Pytorch\n",
    "Networking --> Sockets, Multi-threading\n",
    "Testing -> Selenium, Jtest, Debugger\n",
    "Big Data --> Pydoop/hadoopy/mr job, hadoop streaming, Pyspark"
   ]
  },
  {
   "cell_type": "raw",
   "id": "d3bf10fb",
   "metadata": {},
   "source": [
    "# ordered data structures. \n",
    "\n",
    "# Strings, Lists, Tuples."
   ]
  },
  {
   "cell_type": "raw",
   "id": "7ba3b8e2",
   "metadata": {},
   "source": [
    "# python considers everything as an object"
   ]
  },
  {
   "cell_type": "raw",
   "id": "ad590ee9",
   "metadata": {},
   "source": [
    "# shift+tab shows what the function is for"
   ]
  },
  {
   "cell_type": "raw",
   "id": "d6438a41",
   "metadata": {},
   "source": [
    "# string obj doesnot support item assignment, strings are immutable"
   ]
  },
  {
   "cell_type": "raw",
   "id": "3dae2625",
   "metadata": {},
   "source": [
    "# dir(s) gives functions for s, here s is a string so dir(s) gives functions of string"
   ]
  },
  {
   "cell_type": "raw",
   "id": "d665b0d7",
   "metadata": {},
   "source": [
    "# List --> collection object, mutable , operations can be performed but they are not permanent"
   ]
  },
  {
   "cell_type": "raw",
   "id": "f6580316",
   "metadata": {},
   "source": [
    "# tuples are immutable"
   ]
  },
  {
   "cell_type": "raw",
   "id": "06c5b7fa",
   "metadata": {},
   "source": [
    "# dictionaries are unordered but ordered dict is available in collection module"
   ]
  },
  {
   "cell_type": "raw",
   "id": "0fc7cebf",
   "metadata": {},
   "source": [
    "# set is unique collection of items"
   ]
  },
  {
   "cell_type": "markdown",
   "id": "2729676d",
   "metadata": {},
   "source": [
    "# 18-10-22"
   ]
  },
  {
   "cell_type": "raw",
   "id": "84e34d42",
   "metadata": {},
   "source": [
    "# collections module contains\n",
    "Ordered dictionaries\n",
    "Nmaed tuples\n",
    "Counters\n",
    "Frozen sets"
   ]
  },
  {
   "cell_type": "raw",
   "id": "94c75f55",
   "metadata": {},
   "source": [
    "l = [2,10,5]\n",
    "help(l.insert) # tells what insert does\n",
    "dir(l) --> is for special functions"
   ]
  },
  {
   "cell_type": "raw",
   "id": "e88abcdb",
   "metadata": {},
   "source": [
    "# print formatting techniques\n",
    "w = int(input())\n",
    "x = int(input())\n",
    "print(\"w is {}\".format(w))\n",
    "print(\"w is {1}, w-x is {0}\".format(w-x,w))\n",
    "# fstring\n",
    "#ipython magic cells\n",
    "print(\"The variable %s is holding value of %d as well as %f\"%(\"marks\",88,0.88))"
   ]
  },
  {
   "cell_type": "code",
   "execution_count": null,
   "id": "e3fd93ae",
   "metadata": {},
   "outputs": [],
   "source": [
    "#unpacking tuples\n",
    "std1 = [(1,2,3),(\"nik\",2,3)]\n",
    "for i in std1:\n",
    "    for j in len(i):\n",
    "        prin"
   ]
  },
  {
   "cell_type": "code",
   "execution_count": 10,
   "id": "affd4957",
   "metadata": {},
   "outputs": [],
   "source": [
    "d = {\"id\":[1,2,3,4],\"Name\":['john','peter','ram','arun'],\"salary\":(1000,2004,4008,567)}"
   ]
  },
  {
   "cell_type": "code",
   "execution_count": 14,
   "id": "46789e65",
   "metadata": {},
   "outputs": [
    {
     "name": "stdout",
     "output_type": "stream",
     "text": [
      "3\n",
      "ram\n",
      "4008\n"
     ]
    }
   ],
   "source": [
    "for i,j in d.items():\n",
    "    if j.count(\"ram\")==0:\n",
    "        continue\n",
    "    else:\n",
    "        x = j.index(\"ram\")\n",
    "for i,j in d.items():\n",
    "    print(j[x])\n",
    "    "
   ]
  },
  {
   "cell_type": "raw",
   "id": "cf122c6e",
   "metadata": {},
   "source": [
    "#pass - it does nothing, and does not skip that iteration\n",
    "#break - it terminates the loop\n",
    "#continue - it skips iteration"
   ]
  },
  {
   "cell_type": "code",
   "execution_count": 15,
   "id": "c31eb8e4",
   "metadata": {},
   "outputs": [
    {
     "name": "stdout",
     "output_type": "stream",
     "text": [
      "[10, 20, 30, 40]\n",
      "[10, 20, 30, 40]\n"
     ]
    }
   ],
   "source": [
    "# shallow copy - addresses are copied , not actual values\n",
    "a = [10,20,30]\n",
    "b = a\n",
    "b.append(40)\n",
    "print(b)\n",
    "print(a)\n"
   ]
  },
  {
   "cell_type": "code",
   "execution_count": 16,
   "id": "4b5633bc",
   "metadata": {},
   "outputs": [
    {
     "name": "stdout",
     "output_type": "stream",
     "text": [
      "[30, 50, 60, 80]\n",
      "[30, 50, 60]\n"
     ]
    }
   ],
   "source": [
    "# deep copy - values will be copied\n",
    "a = [30,50,60]\n",
    "b = a[:]\n",
    "b.append(80)\n",
    "print(b)\n",
    "print(a)"
   ]
  },
  {
   "cell_type": "code",
   "execution_count": null,
   "id": "479ba9f4",
   "metadata": {},
   "outputs": [],
   "source": [
    "# list comprehension\n",
    "[i*i if i%2==0 else i*i*i for i in range(10)]"
   ]
  },
  {
   "cell_type": "code",
   "execution_count": 24,
   "id": "a6f3cf86",
   "metadata": {},
   "outputs": [
    {
     "name": "stdout",
     "output_type": "stream",
     "text": [
      "ggg\n",
      "mmm\n"
     ]
    },
    {
     "data": {
      "text/plain": [
       "'This function prints the sub 3 times'"
      ]
     },
     "execution_count": 24,
     "metadata": {},
     "output_type": "execute_result"
    }
   ],
   "source": [
    "def greet(sub=\"m\"):\n",
    "    '''This function prints the sub 3 times''' # shpuld be written in the first only\n",
    "    print(sub*3)\n",
    "greet(\"g\")\n",
    "greet()\n",
    "greet.__doc__ # used to give description abt the func"
   ]
  },
  {
   "cell_type": "raw",
   "id": "41d92821",
   "metadata": {},
   "source": [
    "# isinstance is used to verify the type of a variable\n"
   ]
  },
  {
   "cell_type": "code",
   "execution_count": 25,
   "id": "a73441da",
   "metadata": {},
   "outputs": [
    {
     "data": {
      "text/plain": [
       "False"
      ]
     },
     "execution_count": 25,
     "metadata": {},
     "output_type": "execute_result"
    }
   ],
   "source": [
    "isinstance(12.5,int)"
   ]
  },
  {
   "cell_type": "raw",
   "id": "a3f16a26",
   "metadata": {},
   "source": [
    "# args and kwargs"
   ]
  },
  {
   "cell_type": "code",
   "execution_count": null,
   "id": "49e1a226",
   "metadata": {},
   "outputs": [],
   "source": [
    "# filter function - is to filter out the elements that are satisfying the condition"
   ]
  },
  {
   "cell_type": "raw",
   "id": "ab13febd",
   "metadata": {},
   "source": [
    "write a function to implement selection sort to return the minimum of a given iterable object \n",
    "note: not to use .sort or min in-built functions"
   ]
  },
  {
   "cell_type": "code",
   "execution_count": 5,
   "id": "2f25e531",
   "metadata": {},
   "outputs": [
    {
     "name": "stdout",
     "output_type": "stream",
     "text": [
      "1\n",
      "[8, 6, 5, 2, 1]\n"
     ]
    }
   ],
   "source": [
    "def m(l):\n",
    "    for i in range(len(l)-1):\n",
    "        for j in range(len(l)-1-i):\n",
    "            if l[j]<l[j+1]:\n",
    "                swap = l[j+1]\n",
    "                l[j+1]=l[j]\n",
    "                l[j]=swap\n",
    "    return l[len(l)-1]\n",
    "l = [2,8,1,6,5]\n",
    "\n",
    "print(m(l))\n",
    "print(l)\n",
    "    "
   ]
  },
  {
   "cell_type": "raw",
   "id": "f251e107",
   "metadata": {},
   "source": [
    "zip function"
   ]
  },
  {
   "cell_type": "code",
   "execution_count": 6,
   "id": "c597be9d",
   "metadata": {},
   "outputs": [
    {
     "name": "stdout",
     "output_type": "stream",
     "text": [
      "[(2, 1), (4, 8), (5, 9), (6, 10)]\n"
     ]
    }
   ],
   "source": [
    "l = [2,4,5,6]\n",
    "l1 = [1,8,9,10]\n",
    "l2 = list(zip(l,l1))\n",
    "print(l2)"
   ]
  },
  {
   "cell_type": "code",
   "execution_count": 7,
   "id": "6b7a75c3",
   "metadata": {},
   "outputs": [
    {
     "name": "stdout",
     "output_type": "stream",
     "text": [
      "{2: 1, 4: 8, 5: 9, 6: 10}\n"
     ]
    }
   ],
   "source": [
    "l = [2,4,5,6]\n",
    "l1 = [1,8,9,10]\n",
    "l2 = dict(zip(l,l1))\n",
    "print(l2)"
   ]
  },
  {
   "cell_type": "raw",
   "id": "fddd1549",
   "metadata": {},
   "source": [
    "  scope of a variable : LEGB\n",
    "  Local enclosed global built-in"
   ]
  },
  {
   "cell_type": "code",
   "execution_count": 8,
   "id": "1bd58292",
   "metadata": {},
   "outputs": [
    {
     "name": "stdout",
     "output_type": "stream",
     "text": [
      "the value of x is  20\n",
      "the value of x is  20\n",
      "the value of x is  15\n"
     ]
    }
   ],
   "source": [
    "x = 20\n",
    "def scope():\n",
    "    global x\n",
    "    print(\"the value of x is \",x) #2\n",
    "    x = 15\n",
    "    print(\"the value of x is \",x) #3\n",
    "print(\"the value of x is \",x) #1\n",
    "scope()"
   ]
  },
  {
   "cell_type": "code",
   "execution_count": 10,
   "id": "11352246",
   "metadata": {},
   "outputs": [
    {
     "name": "stdout",
     "output_type": "stream",
     "text": [
      "0\n",
      "1\n"
     ]
    }
   ],
   "source": [
    "#lazy evaluation\n",
    "def generator():\n",
    "    for i in range(10):\n",
    "        yield i*i\n",
    "g = generator()\n",
    "print(next(g))\n",
    "print(next(g))"
   ]
  },
  {
   "cell_type": "markdown",
   "id": "ecadbda2",
   "metadata": {},
   "source": [
    "# decorators"
   ]
  },
  {
   "cell_type": "code",
   "execution_count": 15,
   "id": "b3047072",
   "metadata": {},
   "outputs": [],
   "source": [
    "# decorators\n",
    "def new_decorator(actual_func):\n",
    "    def wrapper_func():\n",
    "        print(\"statement before execution of the function\")\n",
    "        actual_func()\n",
    "        print(\"statement after execution of function\")\n",
    "    return wrapper_func"
   ]
  },
  {
   "cell_type": "code",
   "execution_count": 18,
   "id": "dbda8e02",
   "metadata": {},
   "outputs": [],
   "source": [
    "@new_decorator\n",
    "def decorator_needed():\n",
    "    print(\"I am not decorated yet\")"
   ]
  },
  {
   "cell_type": "code",
   "execution_count": 23,
   "id": "108c12a6",
   "metadata": {},
   "outputs": [
    {
     "name": "stdout",
     "output_type": "stream",
     "text": [
      "statement before execution of the function\n",
      "I am not decorated yet\n",
      "statement after execution of function\n"
     ]
    }
   ],
   "source": [
    "decorator_needed()"
   ]
  },
  {
   "cell_type": "code",
   "execution_count": 21,
   "id": "1796bd5c",
   "metadata": {},
   "outputs": [],
   "source": [
    "#@new_decorator\n",
    "def decorator_needed():\n",
    "    print(\"I am not decorated yet\")"
   ]
  },
  {
   "cell_type": "code",
   "execution_count": 22,
   "id": "55959a9e",
   "metadata": {},
   "outputs": [
    {
     "name": "stdout",
     "output_type": "stream",
     "text": [
      "statement before execution of the function\n",
      "I am not decorated yet\n",
      "statement after execution of function\n"
     ]
    }
   ],
   "source": [
    "decorator_needed()"
   ]
  },
  {
   "cell_type": "raw",
   "id": "5c98c750",
   "metadata": {},
   "source": [
    "module is a python file like import math\n",
    "once u import any module , u can use anything of that module in the present program"
   ]
  },
  {
   "cell_type": "code",
   "execution_count": 30,
   "id": "4fe7784a",
   "metadata": {},
   "outputs": [
    {
     "name": "stdout",
     "output_type": "stream",
     "text": [
      "the command line arguments are :\n",
      "C:\\Users\\Nikhitha reddy\\anaconda3\\lib\\site-packages\\ipykernel_launcher.py\n",
      "-f\n",
      "C:\\Users\\Nikhitha reddy\\AppData\\Roaming\\jupyter\\runtime\\kernel-7f47f91f-122d-4ff3-bb0d-ffd21ebd3d77.json\n",
      "\n",
      "\n",
      "The python path is ['C:\\\\Users\\\\Nikhitha reddy\\\\Gemstones@JPMC', 'C:\\\\Users\\\\Nikhitha reddy\\\\anaconda3\\\\python39.zip', 'C:\\\\Users\\\\Nikhitha reddy\\\\anaconda3\\\\DLLs', 'C:\\\\Users\\\\Nikhitha reddy\\\\anaconda3\\\\lib', 'C:\\\\Users\\\\Nikhitha reddy\\\\anaconda3', '', 'C:\\\\Users\\\\Nikhitha reddy\\\\anaconda3\\\\lib\\\\site-packages', 'C:\\\\Users\\\\Nikhitha reddy\\\\anaconda3\\\\lib\\\\site-packages\\\\locket-0.2.1-py3.9.egg', 'C:\\\\Users\\\\Nikhitha reddy\\\\anaconda3\\\\lib\\\\site-packages\\\\win32', 'C:\\\\Users\\\\Nikhitha reddy\\\\anaconda3\\\\lib\\\\site-packages\\\\win32\\\\lib', 'C:\\\\Users\\\\Nikhitha reddy\\\\anaconda3\\\\lib\\\\site-packages\\\\Pythonwin', 'C:\\\\Users\\\\Nikhitha reddy\\\\anaconda3\\\\lib\\\\site-packages\\\\IPython\\\\extensions', 'C:\\\\Users\\\\Nikhitha reddy\\\\.ipython'] \n",
      "\n"
     ]
    }
   ],
   "source": [
    "# sys module contains all the internal python implementations\n",
    "# sys.path gives all paths where python is stored\n",
    "import sys\n",
    "print('the command line arguments are :')\n",
    "for i in sys.argv:\n",
    "    print(i)\n",
    "print('\\n\\nThe python path is',sys.path,'\\n') "
   ]
  },
  {
   "cell_type": "raw",
   "id": "d2534ce3",
   "metadata": {},
   "source": [
    "#files"
   ]
  },
  {
   "cell_type": "code",
   "execution_count": 60,
   "id": "0598fb69",
   "metadata": {},
   "outputs": [
    {
     "name": "stdout",
     "output_type": "stream",
     "text": [
      "Overwriting jpc.txt\n"
     ]
    }
   ],
   "source": [
    "%%writefile jpc.txt\n",
    "Hi, welcome to the python\n",
    "Python is easy to learn"
   ]
  },
  {
   "cell_type": "code",
   "execution_count": 61,
   "id": "21532c79",
   "metadata": {},
   "outputs": [],
   "source": [
    "test = open('jpc.text','w+')"
   ]
  },
  {
   "cell_type": "code",
   "execution_count": 62,
   "id": "bc160dcb",
   "metadata": {},
   "outputs": [
    {
     "data": {
      "text/plain": [
       "''"
      ]
     },
     "execution_count": 62,
     "metadata": {},
     "output_type": "execute_result"
    }
   ],
   "source": [
    "test.read()"
   ]
  },
  {
   "cell_type": "code",
   "execution_count": 63,
   "id": "baff7379",
   "metadata": {},
   "outputs": [
    {
     "data": {
      "text/plain": [
       "[]"
      ]
     },
     "execution_count": 63,
     "metadata": {},
     "output_type": "execute_result"
    }
   ],
   "source": [
    "test.readlines()"
   ]
  },
  {
   "cell_type": "code",
   "execution_count": 64,
   "id": "5329d7df",
   "metadata": {},
   "outputs": [
    {
     "data": {
      "text/plain": [
       "0"
      ]
     },
     "execution_count": 64,
     "metadata": {},
     "output_type": "execute_result"
    }
   ],
   "source": [
    "test.seek(0)"
   ]
  },
  {
   "cell_type": "code",
   "execution_count": 65,
   "id": "0963c2e6",
   "metadata": {},
   "outputs": [],
   "source": [
    "#if you write like below u dont hv to close\n",
    "with open('jpc.txt') as file:\n",
    "    data=file.read()"
   ]
  },
  {
   "cell_type": "code",
   "execution_count": 66,
   "id": "556f9756",
   "metadata": {},
   "outputs": [
    {
     "name": "stdout",
     "output_type": "stream",
     "text": [
      "Hi, welcome to the python\n",
      "Python is easy to learn\n",
      "\n"
     ]
    }
   ],
   "source": [
    "print(data)"
   ]
  },
  {
   "cell_type": "code",
   "execution_count": 67,
   "id": "18a4105f",
   "metadata": {},
   "outputs": [
    {
     "ename": "ValueError",
     "evalue": "I/O operation on closed file.",
     "output_type": "error",
     "traceback": [
      "\u001b[1;31m---------------------------------------------------------------------------\u001b[0m",
      "\u001b[1;31mValueError\u001b[0m                                Traceback (most recent call last)",
      "\u001b[1;32mC:\\Users\\NIKHIT~1\\AppData\\Local\\Temp/ipykernel_3136/2332113900.py\u001b[0m in \u001b[0;36m<module>\u001b[1;34m\u001b[0m\n\u001b[1;32m----> 1\u001b[1;33m \u001b[0mfile\u001b[0m\u001b[1;33m.\u001b[0m\u001b[0mread\u001b[0m\u001b[1;33m(\u001b[0m\u001b[1;33m)\u001b[0m \u001b[1;31m# gives error cuz file has been closed already\u001b[0m\u001b[1;33m\u001b[0m\u001b[1;33m\u001b[0m\u001b[0m\n\u001b[0m",
      "\u001b[1;31mValueError\u001b[0m: I/O operation on closed file."
     ]
    }
   ],
   "source": [
    "file.read() # gives error cuz file has been closed already"
   ]
  },
  {
   "cell_type": "code",
   "execution_count": 69,
   "id": "8fb83be9",
   "metadata": {},
   "outputs": [
    {
     "name": "stdout",
     "output_type": "stream",
     "text": [
      "0\n",
      "unforeseen error\n",
      "it always runs\n"
     ]
    }
   ],
   "source": [
    "# exception handling\n",
    "# try \n",
    "# except\n",
    "# finally\n",
    "# else\n",
    "try:\n",
    "    num = int(input())\n",
    "    print(\"the result of {} is:\".format(3/num2))\n",
    "except ZeroDivisionError as ZD:\n",
    "    print(ZD.args[0])\n",
    "except ValueError as ve:\n",
    "    print(ve.args[0])\n",
    "except:\n",
    "    print(\"unforeseen error\")\n",
    "finally:\n",
    "    print(\"it always runs\")"
   ]
  },
  {
   "cell_type": "markdown",
   "id": "2f36c251",
   "metadata": {},
   "source": [
    "# 19-10-2022"
   ]
  },
  {
   "cell_type": "raw",
   "id": "74a0d2de",
   "metadata": {},
   "source": [
    "REGULAR EXPRESSION"
   ]
  },
  {
   "cell_type": "code",
   "execution_count": 1,
   "id": "0cc8af85",
   "metadata": {},
   "outputs": [
    {
     "name": "stdout",
     "output_type": "stream",
     "text": [
      "['aa', 'a', 'aaa']\n"
     ]
    }
   ],
   "source": [
    "import re\n",
    "p = re.compile(r\"a+\") // r = rawstring\n",
    "l = p.findall(\"aabcdaefgaaa\")\n",
    "print(l)"
   ]
  },
  {
   "cell_type": "code",
   "execution_count": 2,
   "id": "d046a205",
   "metadata": {},
   "outputs": [
    {
     "name": "stdout",
     "output_type": "stream",
     "text": [
      "['Bill', 'Boll', 'Bull', 'ball', 'bell']\n"
     ]
    }
   ],
   "source": [
    "import re\n",
    "slist = re.findall(r\"[b|B][aeiou]ll\",\"Bill Gates and Uwe Boll \\ drank Red Bull at a football match in Campbell\")\n",
    "print(slist)"
   ]
  },
  {
   "cell_type": "raw",
   "id": "4a548d3f",
   "metadata": {},
   "source": [
    "oops in python"
   ]
  },
  {
   "cell_type": "code",
   "execution_count": 3,
   "id": "8e7d9b1b",
   "metadata": {},
   "outputs": [],
   "source": [
    "class car():\n",
    "    pass"
   ]
  },
  {
   "cell_type": "code",
   "execution_count": 10,
   "id": "38c643c5",
   "metadata": {},
   "outputs": [
    {
     "data": {
      "text/plain": [
       "__main__.car"
      ]
     },
     "execution_count": 10,
     "metadata": {},
     "output_type": "execute_result"
    }
   ],
   "source": [
    "c = car()\n",
    "type(c)"
   ]
  },
  {
   "cell_type": "code",
   "execution_count": 5,
   "id": "3c21dafd",
   "metadata": {},
   "outputs": [],
   "source": [
    "c.name = \"niki\"\n"
   ]
  },
  {
   "cell_type": "code",
   "execution_count": 6,
   "id": "6e31c89a",
   "metadata": {},
   "outputs": [
    {
     "data": {
      "text/plain": [
       "'niki'"
      ]
     },
     "execution_count": 6,
     "metadata": {},
     "output_type": "execute_result"
    }
   ],
   "source": [
    "c.name\n"
   ]
  },
  {
   "cell_type": "code",
   "execution_count": 7,
   "id": "86cf4ae0",
   "metadata": {},
   "outputs": [],
   "source": [
    "d = car()"
   ]
  },
  {
   "cell_type": "code",
   "execution_count": 9,
   "id": "52ab0510",
   "metadata": {},
   "outputs": [],
   "source": [
    "d.name = \"bittu\""
   ]
  },
  {
   "cell_type": "code",
   "execution_count": 11,
   "id": "2a6a2325",
   "metadata": {},
   "outputs": [
    {
     "data": {
      "text/plain": [
       "'bittu'"
      ]
     },
     "execution_count": 11,
     "metadata": {},
     "output_type": "execute_result"
    }
   ],
   "source": [
    "d.name"
   ]
  },
  {
   "cell_type": "code",
   "execution_count": 12,
   "id": "204c9208",
   "metadata": {},
   "outputs": [],
   "source": [
    "class car():\n",
    "    model_name = \"Honda\"\n",
    "    mf_year = 2008\n",
    "    city =\"hyd\""
   ]
  },
  {
   "cell_type": "code",
   "execution_count": 13,
   "id": "b7172e38",
   "metadata": {},
   "outputs": [
    {
     "data": {
      "text/plain": [
       "'Honda'"
      ]
     },
     "execution_count": 13,
     "metadata": {},
     "output_type": "execute_result"
    }
   ],
   "source": [
    "c1 = car()\n",
    "c1.model_name\n"
   ]
  },
  {
   "cell_type": "code",
   "execution_count": 14,
   "id": "2a06c850",
   "metadata": {},
   "outputs": [
    {
     "data": {
      "text/plain": [
       "'Honda'"
      ]
     },
     "execution_count": 14,
     "metadata": {},
     "output_type": "execute_result"
    }
   ],
   "source": [
    "d1 = car()\n",
    "d1.model_name"
   ]
  },
  {
   "cell_type": "code",
   "execution_count": 15,
   "id": "eb474d12",
   "metadata": {},
   "outputs": [],
   "source": [
    "c1.mf_year = 2004"
   ]
  },
  {
   "cell_type": "code",
   "execution_count": 16,
   "id": "e21e16a2",
   "metadata": {},
   "outputs": [
    {
     "data": {
      "text/plain": [
       "2008"
      ]
     },
     "execution_count": 16,
     "metadata": {},
     "output_type": "execute_result"
    }
   ],
   "source": [
    "d1.mf_year"
   ]
  },
  {
   "cell_type": "raw",
   "id": "90deb0bd",
   "metadata": {},
   "source": [
    "# function inside a class is called method"
   ]
  },
  {
   "cell_type": "code",
   "execution_count": 17,
   "id": "3aade255",
   "metadata": {},
   "outputs": [],
   "source": [
    "class car():\n",
    "    model_name = \"Honda\"\n",
    "    mf_year = 2008\n",
    "    city =\"hyd\"\n",
    "    def trip(route):\n",
    "        print(\"blr to hyd\")"
   ]
  },
  {
   "cell_type": "code",
   "execution_count": 19,
   "id": "7963db71",
   "metadata": {},
   "outputs": [
    {
     "name": "stdout",
     "output_type": "stream",
     "text": [
      "blr to hyd\n"
     ]
    }
   ],
   "source": [
    "c = car()\n",
    "c.trip()"
   ]
  },
  {
   "cell_type": "code",
   "execution_count": 20,
   "id": "9f50ad95",
   "metadata": {},
   "outputs": [],
   "source": [
    "class emp:\n",
    "    '''THis is employee database'''\n",
    "    count = 0\n",
    "    org = \"JPMC\"\n",
    "    def __init__(self,Name,Salary):\n",
    "        self.Name = Name\n",
    "        self.Salary = Salary\n",
    "        emp.count+=1\n",
    "    def num_emp(self):\n",
    "        print(\"the number of employees are: \",emp.count)\n",
    "    def __repr__(self):\n",
    "        return \"{} {}\".format(self.__class__.__name__,self.Name) # whatever you put in repr it will give in string format"
   ]
  },
  {
   "cell_type": "code",
   "execution_count": 21,
   "id": "4124d34d",
   "metadata": {},
   "outputs": [],
   "source": [
    "e1 = emp(\"sean\",2000)"
   ]
  },
  {
   "cell_type": "code",
   "execution_count": 22,
   "id": "91b5c882",
   "metadata": {},
   "outputs": [
    {
     "data": {
      "text/plain": [
       "'JPMC'"
      ]
     },
     "execution_count": 22,
     "metadata": {},
     "output_type": "execute_result"
    }
   ],
   "source": [
    "e1.org"
   ]
  },
  {
   "cell_type": "code",
   "execution_count": 23,
   "id": "6edb8084",
   "metadata": {},
   "outputs": [
    {
     "data": {
      "text/plain": [
       "'sean'"
      ]
     },
     "execution_count": 23,
     "metadata": {},
     "output_type": "execute_result"
    }
   ],
   "source": [
    "e1.Name"
   ]
  },
  {
   "cell_type": "code",
   "execution_count": 25,
   "id": "918523a0",
   "metadata": {},
   "outputs": [
    {
     "name": "stdout",
     "output_type": "stream",
     "text": [
      "the number of employees are:  1\n"
     ]
    }
   ],
   "source": [
    "e1.num_emp()"
   ]
  },
  {
   "cell_type": "code",
   "execution_count": 26,
   "id": "95e815fd",
   "metadata": {},
   "outputs": [
    {
     "data": {
      "text/plain": [
       "<method-wrapper '__repr__' of emp object at 0x0000014722A7BDF0>"
      ]
     },
     "execution_count": 26,
     "metadata": {},
     "output_type": "execute_result"
    }
   ],
   "source": [
    "e1.__repr__"
   ]
  },
  {
   "cell_type": "code",
   "execution_count": null,
   "id": "575f8f92",
   "metadata": {},
   "outputs": [],
   "source": [
    "# no method overloading in python\n",
    "# latest method is taken into consideration"
   ]
  },
  {
   "cell_type": "code",
   "execution_count": 27,
   "id": "5ca2883b",
   "metadata": {},
   "outputs": [
    {
     "data": {
      "text/plain": [
       "True"
      ]
     },
     "execution_count": 27,
     "metadata": {},
     "output_type": "execute_result"
    }
   ],
   "source": [
    "hasattr(e1,\"Salary\")"
   ]
  },
  {
   "cell_type": "code",
   "execution_count": 29,
   "id": "11454ed9",
   "metadata": {},
   "outputs": [],
   "source": [
    "setattr(e1,\"Salary\",12000)"
   ]
  },
  {
   "cell_type": "code",
   "execution_count": 30,
   "id": "bcb66d50",
   "metadata": {},
   "outputs": [
    {
     "data": {
      "text/plain": [
       "12000"
      ]
     },
     "execution_count": 30,
     "metadata": {},
     "output_type": "execute_result"
    }
   ],
   "source": [
    "e1.Salary"
   ]
  },
  {
   "cell_type": "code",
   "execution_count": null,
   "id": "dfdf7180",
   "metadata": {},
   "outputs": [],
   "source": [
    "# public , private and protected classes"
   ]
  },
  {
   "cell_type": "code",
   "execution_count": null,
   "id": "232df10e",
   "metadata": {},
   "outputs": [],
   "source": [
    "class car:\n",
    "    def __init__(self,name,color,price):\n",
    "        self.name = name\n",
    "        self._color=color #private\n",
    "        self.__price=price # protected"
   ]
  },
  {
   "cell_type": "code",
   "execution_count": 33,
   "id": "5f6fd3b1",
   "metadata": {},
   "outputs": [
    {
     "data": {
      "text/plain": [
       "'honda'"
      ]
     },
     "execution_count": 33,
     "metadata": {},
     "output_type": "execute_result"
    }
   ],
   "source": [
    "c1 = car(\"honda\",\"red\",1000)\n",
    "c1.name\n"
   ]
  },
  {
   "cell_type": "code",
   "execution_count": 34,
   "id": "bace135b",
   "metadata": {},
   "outputs": [
    {
     "data": {
      "text/plain": [
       "'red'"
      ]
     },
     "execution_count": 34,
     "metadata": {},
     "output_type": "execute_result"
    }
   ],
   "source": [
    "c1._color"
   ]
  },
  {
   "cell_type": "code",
   "execution_count": 35,
   "id": "a2254081",
   "metadata": {},
   "outputs": [
    {
     "data": {
      "text/plain": [
       "1000"
      ]
     },
     "execution_count": 35,
     "metadata": {},
     "output_type": "execute_result"
    }
   ],
   "source": [
    "c1._car__price # for protected only thru class name we can access it"
   ]
  },
  {
   "cell_type": "code",
   "execution_count": 39,
   "id": "efebcc86",
   "metadata": {},
   "outputs": [],
   "source": [
    "class car:\n",
    "    def __init__(self,name,speed):\n",
    "        self.name = name\n",
    "        self.speed = speed\n",
    "    def comp(self):\n",
    "        if self.speed > 100:\n",
    "            print(\"speed is: \", self.speed)\n",
    "        else :\n",
    "            print(\"speed  is low\")\n"
   ]
  },
  {
   "cell_type": "code",
   "execution_count": 40,
   "id": "24cf8f53",
   "metadata": {},
   "outputs": [],
   "source": [
    "c = car(\"honda\",10)\n"
   ]
  },
  {
   "cell_type": "code",
   "execution_count": 41,
   "id": "22e05ae0",
   "metadata": {},
   "outputs": [
    {
     "name": "stdout",
     "output_type": "stream",
     "text": [
      "speed  is low\n"
     ]
    }
   ],
   "source": [
    "c.comp()"
   ]
  },
  {
   "cell_type": "raw",
   "id": "b490e573",
   "metadata": {},
   "source": [
    "# inheritance\n",
    "# polymorphism\n",
    "# encapsulation\n",
    "# abstraction"
   ]
  },
  {
   "cell_type": "raw",
   "id": "224e58f1",
   "metadata": {},
   "source": [
    "# inheritance\n",
    "single level\n",
    "multilevel\n",
    "multiple"
   ]
  },
  {
   "cell_type": "raw",
   "id": "6b0b606f",
   "metadata": {},
   "source": [
    "Single level"
   ]
  },
  {
   "cell_type": "code",
   "execution_count": 43,
   "id": "ba452fa1",
   "metadata": {},
   "outputs": [],
   "source": [
    "class parent():\n",
    "    sir_name = 'Smith'\n",
    "    _city = 40\n",
    "    "
   ]
  },
  {
   "cell_type": "code",
   "execution_count": null,
   "id": "c8c5b620",
   "metadata": {},
   "outputs": [],
   "source": [
    "x = parent()"
   ]
  },
  {
   "cell_type": "code",
   "execution_count": 45,
   "id": "514f0a00",
   "metadata": {},
   "outputs": [],
   "source": [
    "class child(parent):\n",
    "    B_grp = 'O+'\n",
    "    _Age = 20"
   ]
  },
  {
   "cell_type": "code",
   "execution_count": 46,
   "id": "15f9e526",
   "metadata": {},
   "outputs": [],
   "source": [
    "y = child()"
   ]
  },
  {
   "cell_type": "code",
   "execution_count": 47,
   "id": "800f2d0b",
   "metadata": {},
   "outputs": [
    {
     "data": {
      "text/plain": [
       "'O+'"
      ]
     },
     "execution_count": 47,
     "metadata": {},
     "output_type": "execute_result"
    }
   ],
   "source": [
    "y.B_grp"
   ]
  },
  {
   "cell_type": "code",
   "execution_count": 48,
   "id": "066b9949",
   "metadata": {},
   "outputs": [
    {
     "data": {
      "text/plain": [
       "20"
      ]
     },
     "execution_count": 48,
     "metadata": {},
     "output_type": "execute_result"
    }
   ],
   "source": [
    "y._Age"
   ]
  },
  {
   "cell_type": "code",
   "execution_count": 49,
   "id": "fd4d7e13",
   "metadata": {},
   "outputs": [
    {
     "data": {
      "text/plain": [
       "'Smith'"
      ]
     },
     "execution_count": 49,
     "metadata": {},
     "output_type": "execute_result"
    }
   ],
   "source": [
    "y.sir_name\n"
   ]
  },
  {
   "cell_type": "code",
   "execution_count": 50,
   "id": "bc4fcde4",
   "metadata": {},
   "outputs": [
    {
     "data": {
      "text/plain": [
       "40"
      ]
     },
     "execution_count": 50,
     "metadata": {},
     "output_type": "execute_result"
    }
   ],
   "source": [
    "y._city"
   ]
  },
  {
   "cell_type": "raw",
   "id": "0cd2e93a",
   "metadata": {},
   "source": [
    "multilevel"
   ]
  },
  {
   "cell_type": "code",
   "execution_count": 51,
   "id": "8a5e33af",
   "metadata": {},
   "outputs": [],
   "source": [
    "class child2(child):\n",
    "    venue = 'downtown'\n",
    "    state = 'TG'"
   ]
  },
  {
   "cell_type": "code",
   "execution_count": 52,
   "id": "64d295ae",
   "metadata": {},
   "outputs": [],
   "source": [
    "z = child2()"
   ]
  },
  {
   "cell_type": "code",
   "execution_count": 53,
   "id": "522b2492",
   "metadata": {},
   "outputs": [
    {
     "data": {
      "text/plain": [
       "'Smith'"
      ]
     },
     "execution_count": 53,
     "metadata": {},
     "output_type": "execute_result"
    }
   ],
   "source": [
    "z.sir_name"
   ]
  },
  {
   "cell_type": "raw",
   "id": "dadf8f9e",
   "metadata": {},
   "source": [
    "multiple "
   ]
  },
  {
   "cell_type": "code",
   "execution_count": 54,
   "id": "c25f8dc0",
   "metadata": {},
   "outputs": [],
   "source": [
    "class parent1:\n",
    "    sir_name = 'smith'\n",
    "    _city = 'hyd'"
   ]
  },
  {
   "cell_type": "code",
   "execution_count": 55,
   "id": "2551e7e8",
   "metadata": {},
   "outputs": [],
   "source": [
    "class mult(parent,parent1):\n",
    "    age = 22"
   ]
  },
  {
   "cell_type": "code",
   "execution_count": 56,
   "id": "9853ead9",
   "metadata": {},
   "outputs": [],
   "source": [
    "m = mult()"
   ]
  },
  {
   "cell_type": "code",
   "execution_count": 57,
   "id": "52d24fe5",
   "metadata": {},
   "outputs": [
    {
     "data": {
      "text/plain": [
       "22"
      ]
     },
     "execution_count": 57,
     "metadata": {},
     "output_type": "execute_result"
    }
   ],
   "source": [
    "m.age"
   ]
  },
  {
   "cell_type": "code",
   "execution_count": 58,
   "id": "7b63bf30",
   "metadata": {},
   "outputs": [
    {
     "data": {
      "text/plain": [
       "'Smith'"
      ]
     },
     "execution_count": 58,
     "metadata": {},
     "output_type": "execute_result"
    }
   ],
   "source": [
    "m.sir_name"
   ]
  },
  {
   "cell_type": "code",
   "execution_count": 59,
   "id": "0bda3589",
   "metadata": {},
   "outputs": [
    {
     "data": {
      "text/plain": [
       "40"
      ]
     },
     "execution_count": 59,
     "metadata": {},
     "output_type": "execute_result"
    }
   ],
   "source": [
    "m._city # city is there in both parent and parent1 but we mentioned parent first in attributes so parent's city will be printed"
   ]
  },
  {
   "cell_type": "code",
   "execution_count": 68,
   "id": "8b3517ba",
   "metadata": {},
   "outputs": [],
   "source": [
    "class Organisation:\n",
    "    def __init__(self,name,noe,city):\n",
    "        self.name = name\n",
    "        self.noe = noe\n",
    "        self.city = city\n",
    "    def intro(self):\n",
    "        print(\"welcome to our organisation\")\n",
    "    \n",
    "class School(Organisation):\n",
    "    def __init__(self,name,noe,city,nos):\n",
    "        super().__init__(name,noe,city)\n",
    "        self.nos = nos"
   ]
  },
  {
   "cell_type": "code",
   "execution_count": 66,
   "id": "4bdda28e",
   "metadata": {},
   "outputs": [],
   "source": [
    "o1 = Organisation(\"ABC\",100,\"HYD\")\n"
   ]
  },
  {
   "cell_type": "code",
   "execution_count": 69,
   "id": "894e19dc",
   "metadata": {},
   "outputs": [],
   "source": [
    "s1 = School('XYZ',20,'hyd',400)"
   ]
  },
  {
   "cell_type": "code",
   "execution_count": 70,
   "id": "c17455d2",
   "metadata": {},
   "outputs": [
    {
     "data": {
      "text/plain": [
       "'XYZ'"
      ]
     },
     "execution_count": 70,
     "metadata": {},
     "output_type": "execute_result"
    }
   ],
   "source": [
    "s1.name"
   ]
  },
  {
   "cell_type": "code",
   "execution_count": 71,
   "id": "7ed1a747",
   "metadata": {},
   "outputs": [
    {
     "data": {
      "text/plain": [
       "100"
      ]
     },
     "execution_count": 71,
     "metadata": {},
     "output_type": "execute_result"
    }
   ],
   "source": [
    "o1.noe"
   ]
  },
  {
   "cell_type": "code",
   "execution_count": 72,
   "id": "92d7dcca",
   "metadata": {},
   "outputs": [],
   "source": [
    "class clg(School):\n",
    "    def __init__(self,name,noe,city,nos,nob):\n",
    "        super().__init__(name,noe,city,nos)\n",
    "        self.nob = nob"
   ]
  },
  {
   "cell_type": "code",
   "execution_count": 73,
   "id": "5ef90b48",
   "metadata": {},
   "outputs": [],
   "source": [
    "c1 = clg('GNITS',30,'hyd',1000,7)"
   ]
  },
  {
   "cell_type": "code",
   "execution_count": 74,
   "id": "7eebca31",
   "metadata": {},
   "outputs": [
    {
     "data": {
      "text/plain": [
       "'GNITS'"
      ]
     },
     "execution_count": 74,
     "metadata": {},
     "output_type": "execute_result"
    }
   ],
   "source": [
    "c1.name"
   ]
  },
  {
   "cell_type": "code",
   "execution_count": 76,
   "id": "0c16fbbd",
   "metadata": {},
   "outputs": [
    {
     "data": {
      "text/plain": [
       "'ABC'"
      ]
     },
     "execution_count": 76,
     "metadata": {},
     "output_type": "execute_result"
    }
   ],
   "source": [
    "o1.name"
   ]
  },
  {
   "cell_type": "code",
   "execution_count": 77,
   "id": "a1d12ec9",
   "metadata": {},
   "outputs": [
    {
     "data": {
      "text/plain": [
       "'XYZ'"
      ]
     },
     "execution_count": 77,
     "metadata": {},
     "output_type": "execute_result"
    }
   ],
   "source": [
    "s1.name"
   ]
  },
  {
   "cell_type": "code",
   "execution_count": 78,
   "id": "8f88c0e3",
   "metadata": {},
   "outputs": [
    {
     "data": {
      "text/plain": [
       "7"
      ]
     },
     "execution_count": 78,
     "metadata": {},
     "output_type": "execute_result"
    }
   ],
   "source": [
    "c1.nob"
   ]
  },
  {
   "cell_type": "code",
   "execution_count": null,
   "id": "216a26df",
   "metadata": {},
   "outputs": [],
   "source": [
    "# multiple inheritance"
   ]
  },
  {
   "cell_type": "code",
   "execution_count": 81,
   "id": "daae04cd",
   "metadata": {},
   "outputs": [],
   "source": [
    "class Organisation:\n",
    "    def __init__(self,name,num_emp,city):\n",
    "        self.name = name\n",
    "        self.num_emp = num_emp\n",
    "        self.city = city\n",
    "class syllabus:\n",
    "    def __init__(self,board):\n",
    "        self.board=board\n",
    "class School(Organisation,syllabus):\n",
    "    def __init__(self,name,num_emp,city,board,num_stu):\n",
    "        Organisation.__init__(self,name,num_emp,city)\n",
    "        syllabus.__init__(self,board)\n",
    "        self.num_stu=num_stu"
   ]
  },
  {
   "cell_type": "code",
   "execution_count": null,
   "id": "3b01ccf1",
   "metadata": {},
   "outputs": [],
   "source": [
    "# mro - method resolution order , it shows order of classes"
   ]
  },
  {
   "cell_type": "code",
   "execution_count": 82,
   "id": "ea0e623a",
   "metadata": {},
   "outputs": [
    {
     "name": "stdout",
     "output_type": "stream",
     "text": [
      "[<class '__main__.Organisation'>, <class 'object'>]\n"
     ]
    }
   ],
   "source": [
    "print(Organisation.mro())"
   ]
  },
  {
   "cell_type": "code",
   "execution_count": 83,
   "id": "4ce925f3",
   "metadata": {},
   "outputs": [
    {
     "name": "stdout",
     "output_type": "stream",
     "text": [
      "[<class '__main__.School'>, <class '__main__.Organisation'>, <class '__main__.syllabus'>, <class 'object'>]\n"
     ]
    }
   ],
   "source": [
    "print(School.mro())"
   ]
  },
  {
   "cell_type": "code",
   "execution_count": 159,
   "id": "7627ec56",
   "metadata": {},
   "outputs": [],
   "source": [
    "class cost:\n",
    "    def __init__(self,name,age,sex,bmi,num_children,smoker,pay1):\n",
    "        self.name =  name\n",
    "        self.age = age\n",
    "        self.sex= sex\n",
    "        self.bmi = bmi\n",
    "        self.num_children = num_children\n",
    "        self.smoker = smoker\n",
    "        self.pay1 = pay1\n",
    "    def estimate(self):\n",
    "        if self.smoker==\"yes\":\n",
    "             self.pay1 = 20000+(0.25*20000)\n",
    "        self.pay1 = self.pay1 + self.num_children*(0.25*20000)\n",
    "        self.pay1 = self.pay1 + ((0.05)*20000)\n",
    "        self.pay1 = self.pay1 + (0.10)*20000\n",
    "        print(\"customer pay is:\",self.pay1)\n",
    "    def update_age(self,age):\n",
    "        self.age = age\n",
    "    def update_smoker(self,smoker):\n",
    "        self.smoker = smoker\n",
    "    def update_bmi(self,bmi):\n",
    "        self.bmi = bmi\n",
    "    def display_db(self):\n",
    "        print(\"name: \",self.name)\n",
    "        print(\"age:\",self.age)\n",
    "        print(\"sex:\",self.sex)\n",
    "        print(\"bmi:\",self.bmi)\n",
    "        print(\"num_children:\",self.num_children)\n",
    "        print(\"smoker?\",self.smoker)\n",
    "        print(\"pay:\",self.pay1)\n",
    "        cost.pay1 = 20000"
   ]
  },
  {
   "cell_type": "code",
   "execution_count": 160,
   "id": "787b2a64",
   "metadata": {},
   "outputs": [],
   "source": [
    "c = cost(\"nik\",30,\"female\",18.5,2,\"no\",20000)"
   ]
  },
  {
   "cell_type": "code",
   "execution_count": 161,
   "id": "9b7377a4",
   "metadata": {},
   "outputs": [
    {
     "name": "stdout",
     "output_type": "stream",
     "text": [
      "customer pay is: 33000.0\n"
     ]
    }
   ],
   "source": [
    "c.estimate()"
   ]
  },
  {
   "cell_type": "code",
   "execution_count": 162,
   "id": "44852106",
   "metadata": {},
   "outputs": [
    {
     "name": "stdout",
     "output_type": "stream",
     "text": [
      "name:  nik\n",
      "age: 30\n",
      "sex: female\n",
      "bmi: 18.5\n",
      "num_children: 2\n",
      "smoker? no\n",
      "pay: 33000.0\n"
     ]
    }
   ],
   "source": [
    "c.display_db()"
   ]
  },
  {
   "cell_type": "code",
   "execution_count": 163,
   "id": "79b67583",
   "metadata": {},
   "outputs": [],
   "source": [
    "d =cost(\"bits\",40,\"male\",19.5,3,\"no\",20000)"
   ]
  },
  {
   "cell_type": "code",
   "execution_count": 164,
   "id": "1031e4f3",
   "metadata": {},
   "outputs": [
    {
     "name": "stdout",
     "output_type": "stream",
     "text": [
      "customer pay is: 38000.0\n"
     ]
    }
   ],
   "source": [
    "d.estimate()"
   ]
  },
  {
   "cell_type": "code",
   "execution_count": 165,
   "id": "3e702495",
   "metadata": {},
   "outputs": [
    {
     "name": "stdout",
     "output_type": "stream",
     "text": [
      "name:  bits\n",
      "age: 40\n",
      "sex: male\n",
      "bmi: 19.5\n",
      "num_children: 3\n",
      "smoker? no\n",
      "pay: 38000.0\n"
     ]
    }
   ],
   "source": [
    "d.display_db()"
   ]
  },
  {
   "cell_type": "code",
   "execution_count": 166,
   "id": "f4396d6f",
   "metadata": {},
   "outputs": [
    {
     "name": "stdout",
     "output_type": "stream",
     "text": [
      "name:  nik\n",
      "age: 30\n",
      "sex: female\n",
      "bmi: 18.5\n",
      "num_children: 2\n",
      "smoker? no\n",
      "pay: 33000.0\n",
      "name:  bits\n",
      "age: 40\n",
      "sex: male\n",
      "bmi: 19.5\n",
      "num_children: 3\n",
      "smoker? no\n",
      "pay: 38000.0\n"
     ]
    }
   ],
   "source": [
    "c.display_db()\n",
    "d.display_db()"
   ]
  },
  {
   "cell_type": "code",
   "execution_count": 167,
   "id": "8109feb3",
   "metadata": {},
   "outputs": [],
   "source": [
    "# abstract methods\n",
    "# polymorphism"
   ]
  },
  {
   "cell_type": "code",
   "execution_count": 168,
   "id": "7622dec7",
   "metadata": {},
   "outputs": [],
   "source": [
    "from abc import ABC, abstractmethod"
   ]
  },
  {
   "cell_type": "code",
   "execution_count": 172,
   "id": "15cfffea",
   "metadata": {},
   "outputs": [],
   "source": [
    "class car(ABC):\n",
    "    @abstractmethod\n",
    "    def mileage(self):\n",
    "        pass\n",
    "    @abstractmethod\n",
    "    def manufac(self):\n",
    "        pass\n",
    "class sports(car):\n",
    "    def mileage(self):\n",
    "        print(\"the mileage of the car is 15 kms\")\n",
    "    def manufac(self):\n",
    "        print(\"the car is manufactured in hyd\")\n",
    "class economy(car):\n",
    "    def mileage(self):\n",
    "        print(\"the milage of the car is 25kms\")\n",
    "    def manufac(self):\n",
    "        print(\"the car is manufactured in bangalore\")"
   ]
  },
  {
   "cell_type": "code",
   "execution_count": null,
   "id": "6400e5f6",
   "metadata": {},
   "outputs": [],
   "source": [
    "#magic methods"
   ]
  },
  {
   "cell_type": "code",
   "execution_count": 203,
   "id": "63d3441e",
   "metadata": {},
   "outputs": [],
   "source": [
    "class Record:\n",
    "    def __init__(self,Title,Author,pages):\n",
    "        self.Title = Title\n",
    "        self.Author = Author\n",
    "        self.pages = pages\n",
    "    def __len__(self):  # len is a magic method and we are making it to behave the way we want \n",
    "        return self.pages\n",
    "\n",
    "    def __str__(self):# str is a mag ic method and we are making it to behave the way we want\n",
    "        return \"The {} is written by {}\".format(self.Title,self.Author)\n",
    "    def __del__(self):\n",
    "        # del is a magic method and we are making it to behave the way we want\n",
    "         return (\"the book is deleted\")"
   ]
  },
  {
   "cell_type": "code",
   "execution_count": 205,
   "id": "26194b68",
   "metadata": {},
   "outputs": [
    {
     "name": "stdout",
     "output_type": "stream",
     "text": [
      "the book is deleted\n"
     ]
    }
   ],
   "source": [
    "b3 = Record(\"My python\",\"US\",100)\n"
   ]
  },
  {
   "cell_type": "code",
   "execution_count": 206,
   "id": "fb722b31",
   "metadata": {},
   "outputs": [
    {
     "data": {
      "text/plain": [
       "'The My python is written by US'"
      ]
     },
     "execution_count": 206,
     "metadata": {},
     "output_type": "execute_result"
    }
   ],
   "source": [
    "str(b2)"
   ]
  },
  {
   "cell_type": "code",
   "execution_count": 197,
   "id": "cf554fec",
   "metadata": {},
   "outputs": [
    {
     "data": {
      "text/plain": [
       "100"
      ]
     },
     "execution_count": 197,
     "metadata": {},
     "output_type": "execute_result"
    }
   ],
   "source": [
    "len(b2)"
   ]
  },
  {
   "cell_type": "code",
   "execution_count": 198,
   "id": "71e01eda",
   "metadata": {},
   "outputs": [
    {
     "name": "stdout",
     "output_type": "stream",
     "text": [
      "the book is deleted\n"
     ]
    }
   ],
   "source": [
    "del(b2)"
   ]
  },
  {
   "cell_type": "code",
   "execution_count": 212,
   "id": "0531ca86",
   "metadata": {},
   "outputs": [],
   "source": [
    "b6 = Record(\"My python\",\"US\",100)"
   ]
  },
  {
   "cell_type": "markdown",
   "id": "b0e9bed2",
   "metadata": {},
   "source": [
    "# 20-10-22"
   ]
  },
  {
   "cell_type": "code",
   "execution_count": 1,
   "id": "372dfd6a",
   "metadata": {},
   "outputs": [],
   "source": [
    "# numpy--> numerical analysis\n",
    "# pandas--> data manipulation & analytics library\n",
    "# scipy --> statistical library\n"
   ]
  },
  {
   "cell_type": "markdown",
   "id": "0974603b",
   "metadata": {},
   "source": [
    "# numpy"
   ]
  },
  {
   "cell_type": "code",
   "execution_count": 2,
   "id": "c3808bab",
   "metadata": {},
   "outputs": [],
   "source": [
    "# numpy - ndiamensional arrays"
   ]
  },
  {
   "cell_type": "code",
   "execution_count": 3,
   "id": "7978c067",
   "metadata": {},
   "outputs": [],
   "source": [
    "import numpy as np"
   ]
  },
  {
   "cell_type": "code",
   "execution_count": 4,
   "id": "99337892",
   "metadata": {},
   "outputs": [],
   "source": [
    "a1 = np.array([1,2,3,4])"
   ]
  },
  {
   "cell_type": "code",
   "execution_count": 5,
   "id": "71581701",
   "metadata": {},
   "outputs": [],
   "source": [
    "a2 = np.array([11,22,33,44])"
   ]
  },
  {
   "cell_type": "code",
   "execution_count": 6,
   "id": "41e9c18d",
   "metadata": {},
   "outputs": [
    {
     "data": {
      "text/plain": [
       "(4,)"
      ]
     },
     "execution_count": 6,
     "metadata": {},
     "output_type": "execute_result"
    }
   ],
   "source": [
    "a1.shape"
   ]
  },
  {
   "cell_type": "code",
   "execution_count": 7,
   "id": "dac5f43c",
   "metadata": {},
   "outputs": [
    {
     "data": {
      "text/plain": [
       "(4,)"
      ]
     },
     "execution_count": 7,
     "metadata": {},
     "output_type": "execute_result"
    }
   ],
   "source": [
    "a2.shape # 4 rows 1 col"
   ]
  },
  {
   "cell_type": "code",
   "execution_count": 10,
   "id": "a4da0ff2",
   "metadata": {},
   "outputs": [],
   "source": [
    "a2 = a2.reshape(2,2)"
   ]
  },
  {
   "cell_type": "code",
   "execution_count": 11,
   "id": "52623a4d",
   "metadata": {},
   "outputs": [
    {
     "data": {
      "text/plain": [
       "array([[11, 22],\n",
       "       [33, 44]])"
      ]
     },
     "execution_count": 11,
     "metadata": {},
     "output_type": "execute_result"
    }
   ],
   "source": [
    "a2"
   ]
  },
  {
   "cell_type": "code",
   "execution_count": 12,
   "id": "25605f82",
   "metadata": {},
   "outputs": [
    {
     "data": {
      "text/plain": [
       "(4,)"
      ]
     },
     "execution_count": 12,
     "metadata": {},
     "output_type": "execute_result"
    }
   ],
   "source": [
    "a1.shape"
   ]
  },
  {
   "cell_type": "code",
   "execution_count": 13,
   "id": "e1a1207e",
   "metadata": {},
   "outputs": [
    {
     "data": {
      "text/plain": [
       "(2, 2)"
      ]
     },
     "execution_count": 13,
     "metadata": {},
     "output_type": "execute_result"
    }
   ],
   "source": [
    "a2.shape"
   ]
  },
  {
   "cell_type": "code",
   "execution_count": 14,
   "id": "cf5f5a58",
   "metadata": {},
   "outputs": [
    {
     "data": {
      "text/plain": [
       "numpy.ndarray"
      ]
     },
     "execution_count": 14,
     "metadata": {},
     "output_type": "execute_result"
    }
   ],
   "source": [
    "type(a1)"
   ]
  },
  {
   "cell_type": "code",
   "execution_count": 15,
   "id": "4a40fb81",
   "metadata": {},
   "outputs": [
    {
     "data": {
      "text/plain": [
       "numpy.ndarray"
      ]
     },
     "execution_count": 15,
     "metadata": {},
     "output_type": "execute_result"
    }
   ],
   "source": [
    "type(a2)"
   ]
  },
  {
   "cell_type": "code",
   "execution_count": 19,
   "id": "721e2c61",
   "metadata": {},
   "outputs": [],
   "source": [
    "arr = np.array([10,20,30,40,50,60]).reshape(2,3)"
   ]
  },
  {
   "cell_type": "code",
   "execution_count": 62,
   "id": "e42dad1f",
   "metadata": {},
   "outputs": [
    {
     "data": {
      "text/plain": [
       "array([[10, 20, 30],\n",
       "       [80, 50, 40],\n",
       "       [12, 16,  8]])"
      ]
     },
     "execution_count": 62,
     "metadata": {},
     "output_type": "execute_result"
    }
   ],
   "source": [
    "arr"
   ]
  },
  {
   "cell_type": "code",
   "execution_count": null,
   "id": "34dc1633",
   "metadata": {},
   "outputs": [],
   "source": []
  },
  {
   "cell_type": "markdown",
   "id": "40938f3d",
   "metadata": {},
   "source": [
    "# traversing"
   ]
  },
  {
   "cell_type": "code",
   "execution_count": 22,
   "id": "e144fa5f",
   "metadata": {},
   "outputs": [
    {
     "data": {
      "text/plain": [
       "array([40, 50, 60])"
      ]
     },
     "execution_count": 22,
     "metadata": {},
     "output_type": "execute_result"
    }
   ],
   "source": [
    "arr[1,:]"
   ]
  },
  {
   "cell_type": "code",
   "execution_count": 23,
   "id": "eac4038d",
   "metadata": {},
   "outputs": [],
   "source": [
    "arr = np.array([[10,20,30,80,50,40,12,16,8]]).reshape(3,3)"
   ]
  },
  {
   "cell_type": "code",
   "execution_count": 24,
   "id": "d8487f73",
   "metadata": {},
   "outputs": [
    {
     "data": {
      "text/plain": [
       "array([[10, 20, 30],\n",
       "       [80, 50, 40],\n",
       "       [12, 16,  8]])"
      ]
     },
     "execution_count": 24,
     "metadata": {},
     "output_type": "execute_result"
    }
   ],
   "source": [
    "arr"
   ]
  },
  {
   "cell_type": "code",
   "execution_count": 30,
   "id": "07c8b399",
   "metadata": {},
   "outputs": [
    {
     "data": {
      "text/plain": [
       "array([[10, 30],\n",
       "       [12,  8]])"
      ]
     },
     "execution_count": 30,
     "metadata": {},
     "output_type": "execute_result"
    }
   ],
   "source": [
    "arr[[0,2],::2]"
   ]
  },
  {
   "cell_type": "code",
   "execution_count": 31,
   "id": "19249108",
   "metadata": {},
   "outputs": [
    {
     "data": {
      "text/plain": [
       "array([0, 1, 2, 3, 4])"
      ]
     },
     "execution_count": 31,
     "metadata": {},
     "output_type": "execute_result"
    }
   ],
   "source": [
    "np.arange(5)"
   ]
  },
  {
   "cell_type": "code",
   "execution_count": 33,
   "id": "e0273e29",
   "metadata": {},
   "outputs": [
    {
     "data": {
      "text/plain": [
       "array([         10,         200,        6000,      480000,    24000000,\n",
       "         960000000, -1364901888,  -363593728,  1386217472], dtype=int32)"
      ]
     },
     "execution_count": 33,
     "metadata": {},
     "output_type": "execute_result"
    }
   ],
   "source": [
    "arr.cumprod()"
   ]
  },
  {
   "cell_type": "code",
   "execution_count": 34,
   "id": "f731768d",
   "metadata": {},
   "outputs": [
    {
     "data": {
      "text/plain": [
       "array([ 10,  30,  60, 140, 190, 230, 242, 258, 266], dtype=int32)"
      ]
     },
     "execution_count": 34,
     "metadata": {},
     "output_type": "execute_result"
    }
   ],
   "source": [
    "arr.cumsum()"
   ]
  },
  {
   "cell_type": "code",
   "execution_count": 35,
   "id": "142a6289",
   "metadata": {},
   "outputs": [
    {
     "data": {
      "text/plain": [
       "array([[10, 80, 12],\n",
       "       [20, 50, 16],\n",
       "       [30, 40,  8]])"
      ]
     },
     "execution_count": 35,
     "metadata": {},
     "output_type": "execute_result"
    }
   ],
   "source": [
    "arr.T"
   ]
  },
  {
   "cell_type": "code",
   "execution_count": 63,
   "id": "50f654be",
   "metadata": {},
   "outputs": [
    {
     "data": {
      "text/plain": [
       "array([10, 20, 30, 80, 50, 40, 12, 16,  8])"
      ]
     },
     "execution_count": 63,
     "metadata": {},
     "output_type": "execute_result"
    }
   ],
   "source": [
    "arr.flatten()"
   ]
  },
  {
   "cell_type": "code",
   "execution_count": 64,
   "id": "5c480d50",
   "metadata": {},
   "outputs": [
    {
     "data": {
      "text/plain": [
       "array([[10, 20, 30],\n",
       "       [80, 50, 40],\n",
       "       [12, 16,  8]])"
      ]
     },
     "execution_count": 64,
     "metadata": {},
     "output_type": "execute_result"
    }
   ],
   "source": [
    "np.vstack(arr)"
   ]
  },
  {
   "cell_type": "markdown",
   "id": "44ae88f5",
   "metadata": {},
   "source": [
    "# subsetting"
   ]
  },
  {
   "cell_type": "code",
   "execution_count": 38,
   "id": "f286b3ce",
   "metadata": {},
   "outputs": [
    {
     "data": {
      "text/plain": [
       "array([30, 80, 50, 40])"
      ]
     },
     "execution_count": 38,
     "metadata": {},
     "output_type": "execute_result"
    }
   ],
   "source": [
    "arr[arr>25] # subsetting\n",
    "    "
   ]
  },
  {
   "cell_type": "code",
   "execution_count": 44,
   "id": "2f76c770",
   "metadata": {},
   "outputs": [
    {
     "data": {
      "text/plain": [
       "array([30, 40])"
      ]
     },
     "execution_count": 44,
     "metadata": {},
     "output_type": "execute_result"
    }
   ],
   "source": [
    "arr[(arr>25) & (arr<50)]"
   ]
  },
  {
   "cell_type": "code",
   "execution_count": 46,
   "id": "d5a8ed05",
   "metadata": {},
   "outputs": [
    {
     "data": {
      "text/plain": [
       "array([0.59858117, 0.00960011, 0.78196687, 0.49851376, 0.13583911,\n",
       "       0.45632559, 0.88360956, 0.06092292, 0.96274866, 0.71780229])"
      ]
     },
     "execution_count": 46,
     "metadata": {},
     "output_type": "execute_result"
    }
   ],
   "source": [
    "np.random.rand(10)"
   ]
  },
  {
   "cell_type": "code",
   "execution_count": 49,
   "id": "1dee8462",
   "metadata": {},
   "outputs": [
    {
     "data": {
      "text/plain": [
       "array([8, 5, 9])"
      ]
     },
     "execution_count": 49,
     "metadata": {},
     "output_type": "execute_result"
    }
   ],
   "source": [
    "np.random.randint(5,10,3) # 5 include , 10 exclude"
   ]
  },
  {
   "cell_type": "code",
   "execution_count": 50,
   "id": "65090b59",
   "metadata": {},
   "outputs": [
    {
     "data": {
      "text/plain": [
       "array([-1.37107056,  0.23342091,  2.32996989,  0.89000165,  0.04286812,\n",
       "       -0.4917179 ,  1.32784643,  0.474107  ,  0.03774339, -0.75803556])"
      ]
     },
     "execution_count": 50,
     "metadata": {},
     "output_type": "execute_result"
    }
   ],
   "source": [
    "np.random.randn(10) "
   ]
  },
  {
   "cell_type": "markdown",
   "id": "41b0e4ef",
   "metadata": {},
   "source": [
    "# pandas"
   ]
  },
  {
   "cell_type": "code",
   "execution_count": 52,
   "id": "eb25d24c",
   "metadata": {},
   "outputs": [],
   "source": [
    "#pandas is aka data manipulation, analytic tool"
   ]
  },
  {
   "cell_type": "code",
   "execution_count": 53,
   "id": "ac50ab2b",
   "metadata": {},
   "outputs": [],
   "source": [
    "import pandas as pd"
   ]
  },
  {
   "cell_type": "code",
   "execution_count": 54,
   "id": "a217cc0c",
   "metadata": {},
   "outputs": [],
   "source": [
    "#series - one diamension-one row/one col"
   ]
  },
  {
   "cell_type": "code",
   "execution_count": 56,
   "id": "463d18ab",
   "metadata": {},
   "outputs": [],
   "source": [
    "s = pd.Series([10,20,15,25]) "
   ]
  },
  {
   "cell_type": "code",
   "execution_count": 57,
   "id": "f8a5be6c",
   "metadata": {},
   "outputs": [
    {
     "data": {
      "text/plain": [
       "0    10\n",
       "1    20\n",
       "2    15\n",
       "3    25\n",
       "dtype: int64"
      ]
     },
     "execution_count": 57,
     "metadata": {},
     "output_type": "execute_result"
    }
   ],
   "source": [
    "s"
   ]
  },
  {
   "cell_type": "code",
   "execution_count": 58,
   "id": "c6f58e61",
   "metadata": {},
   "outputs": [],
   "source": [
    "# we can hv own index also as well as default 0,1,2.....indexing"
   ]
  },
  {
   "cell_type": "code",
   "execution_count": 65,
   "id": "ab9fa31a",
   "metadata": {},
   "outputs": [],
   "source": [
    "s1 = pd.Series([100,200,300,400],index=['Mon','Tue','wed','thu'])"
   ]
  },
  {
   "cell_type": "code",
   "execution_count": 66,
   "id": "4acd54e7",
   "metadata": {},
   "outputs": [],
   "source": [
    "date = pd.date_range('20221020',periods=4,freq = '3M')"
   ]
  },
  {
   "cell_type": "code",
   "execution_count": 67,
   "id": "b869ead4",
   "metadata": {},
   "outputs": [],
   "source": [
    "s2 = pd.Series([100,200,300,400],index=date)"
   ]
  },
  {
   "cell_type": "code",
   "execution_count": 69,
   "id": "b11fc5a2",
   "metadata": {},
   "outputs": [
    {
     "name": "stdout",
     "output_type": "stream",
     "text": [
      "Help on function date_range in module pandas.core.indexes.datetimes:\n",
      "\n",
      "date_range(start=None, end=None, periods=None, freq=None, tz=None, normalize: 'bool' = False, name: 'Hashable' = None, closed=None, **kwargs) -> 'DatetimeIndex'\n",
      "    Return a fixed frequency DatetimeIndex.\n",
      "    \n",
      "    Returns the range of equally spaced time points (where the difference between any\n",
      "    two adjacent points is specified by the given frequency) such that they all\n",
      "    satisfy `start <[=] x <[=] end`, where the first one and the last one are, resp.,\n",
      "    the first and last time points in that range that fall on the boundary of ``freq``\n",
      "    (if given as a frequency string) or that are valid for ``freq`` (if given as a\n",
      "    :class:`pandas.tseries.offsets.DateOffset`). (If exactly one of ``start``,\n",
      "    ``end``, or ``freq`` is *not* specified, this missing parameter can be computed\n",
      "    given ``periods``, the number of timesteps in the range. See the note below.)\n",
      "    \n",
      "    Parameters\n",
      "    ----------\n",
      "    start : str or datetime-like, optional\n",
      "        Left bound for generating dates.\n",
      "    end : str or datetime-like, optional\n",
      "        Right bound for generating dates.\n",
      "    periods : int, optional\n",
      "        Number of periods to generate.\n",
      "    freq : str or DateOffset, default 'D'\n",
      "        Frequency strings can have multiples, e.g. '5H'. See\n",
      "        :ref:`here <timeseries.offset_aliases>` for a list of\n",
      "        frequency aliases.\n",
      "    tz : str or tzinfo, optional\n",
      "        Time zone name for returning localized DatetimeIndex, for example\n",
      "        'Asia/Hong_Kong'. By default, the resulting DatetimeIndex is\n",
      "        timezone-naive.\n",
      "    normalize : bool, default False\n",
      "        Normalize start/end dates to midnight before generating date range.\n",
      "    name : str, default None\n",
      "        Name of the resulting DatetimeIndex.\n",
      "    closed : {None, 'left', 'right'}, optional\n",
      "        Make the interval closed with respect to the given frequency to\n",
      "        the 'left', 'right', or both sides (None, the default).\n",
      "    **kwargs\n",
      "        For compatibility. Has no effect on the result.\n",
      "    \n",
      "    Returns\n",
      "    -------\n",
      "    rng : DatetimeIndex\n",
      "    \n",
      "    See Also\n",
      "    --------\n",
      "    DatetimeIndex : An immutable container for datetimes.\n",
      "    timedelta_range : Return a fixed frequency TimedeltaIndex.\n",
      "    period_range : Return a fixed frequency PeriodIndex.\n",
      "    interval_range : Return a fixed frequency IntervalIndex.\n",
      "    \n",
      "    Notes\n",
      "    -----\n",
      "    Of the four parameters ``start``, ``end``, ``periods``, and ``freq``,\n",
      "    exactly three must be specified. If ``freq`` is omitted, the resulting\n",
      "    ``DatetimeIndex`` will have ``periods`` linearly spaced elements between\n",
      "    ``start`` and ``end`` (closed on both sides).\n",
      "    \n",
      "    To learn more about the frequency strings, please see `this link\n",
      "    <https://pandas.pydata.org/pandas-docs/stable/user_guide/timeseries.html#offset-aliases>`__.\n",
      "    \n",
      "    Examples\n",
      "    --------\n",
      "    **Specifying the values**\n",
      "    \n",
      "    The next four examples generate the same `DatetimeIndex`, but vary\n",
      "    the combination of `start`, `end` and `periods`.\n",
      "    \n",
      "    Specify `start` and `end`, with the default daily frequency.\n",
      "    \n",
      "    >>> pd.date_range(start='1/1/2018', end='1/08/2018')\n",
      "    DatetimeIndex(['2018-01-01', '2018-01-02', '2018-01-03', '2018-01-04',\n",
      "                   '2018-01-05', '2018-01-06', '2018-01-07', '2018-01-08'],\n",
      "                  dtype='datetime64[ns]', freq='D')\n",
      "    \n",
      "    Specify `start` and `periods`, the number of periods (days).\n",
      "    \n",
      "    >>> pd.date_range(start='1/1/2018', periods=8)\n",
      "    DatetimeIndex(['2018-01-01', '2018-01-02', '2018-01-03', '2018-01-04',\n",
      "                   '2018-01-05', '2018-01-06', '2018-01-07', '2018-01-08'],\n",
      "                  dtype='datetime64[ns]', freq='D')\n",
      "    \n",
      "    Specify `end` and `periods`, the number of periods (days).\n",
      "    \n",
      "    >>> pd.date_range(end='1/1/2018', periods=8)\n",
      "    DatetimeIndex(['2017-12-25', '2017-12-26', '2017-12-27', '2017-12-28',\n",
      "                   '2017-12-29', '2017-12-30', '2017-12-31', '2018-01-01'],\n",
      "                  dtype='datetime64[ns]', freq='D')\n",
      "    \n",
      "    Specify `start`, `end`, and `periods`; the frequency is generated\n",
      "    automatically (linearly spaced).\n",
      "    \n",
      "    >>> pd.date_range(start='2018-04-24', end='2018-04-27', periods=3)\n",
      "    DatetimeIndex(['2018-04-24 00:00:00', '2018-04-25 12:00:00',\n",
      "                   '2018-04-27 00:00:00'],\n",
      "                  dtype='datetime64[ns]', freq=None)\n",
      "    \n",
      "    **Other Parameters**\n",
      "    \n",
      "    Changed the `freq` (frequency) to ``'M'`` (month end frequency).\n",
      "    \n",
      "    >>> pd.date_range(start='1/1/2018', periods=5, freq='M')\n",
      "    DatetimeIndex(['2018-01-31', '2018-02-28', '2018-03-31', '2018-04-30',\n",
      "                   '2018-05-31'],\n",
      "                  dtype='datetime64[ns]', freq='M')\n",
      "    \n",
      "    Multiples are allowed\n",
      "    \n",
      "    >>> pd.date_range(start='1/1/2018', periods=5, freq='3M')\n",
      "    DatetimeIndex(['2018-01-31', '2018-04-30', '2018-07-31', '2018-10-31',\n",
      "                   '2019-01-31'],\n",
      "                  dtype='datetime64[ns]', freq='3M')\n",
      "    \n",
      "    `freq` can also be specified as an Offset object.\n",
      "    \n",
      "    >>> pd.date_range(start='1/1/2018', periods=5, freq=pd.offsets.MonthEnd(3))\n",
      "    DatetimeIndex(['2018-01-31', '2018-04-30', '2018-07-31', '2018-10-31',\n",
      "                   '2019-01-31'],\n",
      "                  dtype='datetime64[ns]', freq='3M')\n",
      "    \n",
      "    Specify `tz` to set the timezone.\n",
      "    \n",
      "    >>> pd.date_range(start='1/1/2018', periods=5, tz='Asia/Tokyo')\n",
      "    DatetimeIndex(['2018-01-01 00:00:00+09:00', '2018-01-02 00:00:00+09:00',\n",
      "                   '2018-01-03 00:00:00+09:00', '2018-01-04 00:00:00+09:00',\n",
      "                   '2018-01-05 00:00:00+09:00'],\n",
      "                  dtype='datetime64[ns, Asia/Tokyo]', freq='D')\n",
      "    \n",
      "    `closed` controls whether to include `start` and `end` that are on the\n",
      "    boundary. The default includes boundary points on either end.\n",
      "    \n",
      "    >>> pd.date_range(start='2017-01-01', end='2017-01-04', closed=None)\n",
      "    DatetimeIndex(['2017-01-01', '2017-01-02', '2017-01-03', '2017-01-04'],\n",
      "                  dtype='datetime64[ns]', freq='D')\n",
      "    \n",
      "    Use ``closed='left'`` to exclude `end` if it falls on the boundary.\n",
      "    \n",
      "    >>> pd.date_range(start='2017-01-01', end='2017-01-04', closed='left')\n",
      "    DatetimeIndex(['2017-01-01', '2017-01-02', '2017-01-03'],\n",
      "                  dtype='datetime64[ns]', freq='D')\n",
      "    \n",
      "    Use ``closed='right'`` to exclude `start` if it falls on the boundary.\n",
      "    \n",
      "    >>> pd.date_range(start='2017-01-01', end='2017-01-04', closed='right')\n",
      "    DatetimeIndex(['2017-01-02', '2017-01-03', '2017-01-04'],\n",
      "                  dtype='datetime64[ns]', freq='D')\n",
      "\n"
     ]
    }
   ],
   "source": [
    "help(pd.date_range)"
   ]
  },
  {
   "cell_type": "code",
   "execution_count": 70,
   "id": "f18262d7",
   "metadata": {},
   "outputs": [
    {
     "data": {
      "text/plain": [
       "2022-10-31    100\n",
       "2023-01-31    200\n",
       "2023-04-30    300\n",
       "2023-07-31    400\n",
       "Freq: 3M, dtype: int64"
      ]
     },
     "execution_count": 70,
     "metadata": {},
     "output_type": "execute_result"
    }
   ],
   "source": [
    "s2"
   ]
  },
  {
   "cell_type": "code",
   "execution_count": 60,
   "id": "2b3a37d6",
   "metadata": {},
   "outputs": [
    {
     "data": {
      "text/plain": [
       "100"
      ]
     },
     "execution_count": 60,
     "metadata": {},
     "output_type": "execute_result"
    }
   ],
   "source": [
    "s1[0]"
   ]
  },
  {
   "cell_type": "code",
   "execution_count": 61,
   "id": "4cb27ca5",
   "metadata": {},
   "outputs": [
    {
     "data": {
      "text/plain": [
       "100"
      ]
     },
     "execution_count": 61,
     "metadata": {},
     "output_type": "execute_result"
    }
   ],
   "source": [
    "s1['Mon']"
   ]
  },
  {
   "cell_type": "markdown",
   "id": "2cc2569d",
   "metadata": {},
   "source": [
    "# data frames "
   ]
  },
  {
   "cell_type": "raw",
   "id": "c6ecc8a8",
   "metadata": {},
   "source": [
    "data frame - combo of rows and cols"
   ]
  },
  {
   "cell_type": "code",
   "execution_count": 71,
   "id": "67473eca",
   "metadata": {},
   "outputs": [],
   "source": [
    "df = pd.DataFrame(np.random.randn(3,4))"
   ]
  },
  {
   "cell_type": "code",
   "execution_count": 72,
   "id": "89a98bce",
   "metadata": {},
   "outputs": [
    {
     "data": {
      "text/html": [
       "<div>\n",
       "<style scoped>\n",
       "    .dataframe tbody tr th:only-of-type {\n",
       "        vertical-align: middle;\n",
       "    }\n",
       "\n",
       "    .dataframe tbody tr th {\n",
       "        vertical-align: top;\n",
       "    }\n",
       "\n",
       "    .dataframe thead th {\n",
       "        text-align: right;\n",
       "    }\n",
       "</style>\n",
       "<table border=\"1\" class=\"dataframe\">\n",
       "  <thead>\n",
       "    <tr style=\"text-align: right;\">\n",
       "      <th></th>\n",
       "      <th>0</th>\n",
       "      <th>1</th>\n",
       "      <th>2</th>\n",
       "      <th>3</th>\n",
       "    </tr>\n",
       "  </thead>\n",
       "  <tbody>\n",
       "    <tr>\n",
       "      <th>0</th>\n",
       "      <td>-0.191962</td>\n",
       "      <td>-0.251075</td>\n",
       "      <td>0.991324</td>\n",
       "      <td>1.387186</td>\n",
       "    </tr>\n",
       "    <tr>\n",
       "      <th>1</th>\n",
       "      <td>1.110143</td>\n",
       "      <td>1.096075</td>\n",
       "      <td>0.973215</td>\n",
       "      <td>1.184222</td>\n",
       "    </tr>\n",
       "    <tr>\n",
       "      <th>2</th>\n",
       "      <td>-2.084064</td>\n",
       "      <td>-0.381678</td>\n",
       "      <td>1.318842</td>\n",
       "      <td>0.005531</td>\n",
       "    </tr>\n",
       "  </tbody>\n",
       "</table>\n",
       "</div>"
      ],
      "text/plain": [
       "          0         1         2         3\n",
       "0 -0.191962 -0.251075  0.991324  1.387186\n",
       "1  1.110143  1.096075  0.973215  1.184222\n",
       "2 -2.084064 -0.381678  1.318842  0.005531"
      ]
     },
     "execution_count": 72,
     "metadata": {},
     "output_type": "execute_result"
    }
   ],
   "source": [
    "df"
   ]
  },
  {
   "cell_type": "code",
   "execution_count": 73,
   "id": "ab5eb9b4",
   "metadata": {},
   "outputs": [],
   "source": [
    "df = pd.DataFrame(np.random.randn(3,4),columns=['a','b','c','d'])"
   ]
  },
  {
   "cell_type": "code",
   "execution_count": 74,
   "id": "544f8ef5",
   "metadata": {},
   "outputs": [
    {
     "data": {
      "text/html": [
       "<div>\n",
       "<style scoped>\n",
       "    .dataframe tbody tr th:only-of-type {\n",
       "        vertical-align: middle;\n",
       "    }\n",
       "\n",
       "    .dataframe tbody tr th {\n",
       "        vertical-align: top;\n",
       "    }\n",
       "\n",
       "    .dataframe thead th {\n",
       "        text-align: right;\n",
       "    }\n",
       "</style>\n",
       "<table border=\"1\" class=\"dataframe\">\n",
       "  <thead>\n",
       "    <tr style=\"text-align: right;\">\n",
       "      <th></th>\n",
       "      <th>a</th>\n",
       "      <th>b</th>\n",
       "      <th>c</th>\n",
       "      <th>d</th>\n",
       "    </tr>\n",
       "  </thead>\n",
       "  <tbody>\n",
       "    <tr>\n",
       "      <th>0</th>\n",
       "      <td>-2.086936</td>\n",
       "      <td>-0.644357</td>\n",
       "      <td>-1.458664</td>\n",
       "      <td>1.361233</td>\n",
       "    </tr>\n",
       "    <tr>\n",
       "      <th>1</th>\n",
       "      <td>-0.030090</td>\n",
       "      <td>-0.089925</td>\n",
       "      <td>-0.734126</td>\n",
       "      <td>0.445243</td>\n",
       "    </tr>\n",
       "    <tr>\n",
       "      <th>2</th>\n",
       "      <td>0.264815</td>\n",
       "      <td>0.893757</td>\n",
       "      <td>1.518843</td>\n",
       "      <td>-0.668536</td>\n",
       "    </tr>\n",
       "  </tbody>\n",
       "</table>\n",
       "</div>"
      ],
      "text/plain": [
       "          a         b         c         d\n",
       "0 -2.086936 -0.644357 -1.458664  1.361233\n",
       "1 -0.030090 -0.089925 -0.734126  0.445243\n",
       "2  0.264815  0.893757  1.518843 -0.668536"
      ]
     },
     "execution_count": 74,
     "metadata": {},
     "output_type": "execute_result"
    }
   ],
   "source": [
    "df"
   ]
  },
  {
   "cell_type": "code",
   "execution_count": 77,
   "id": "cc3f7dfa",
   "metadata": {},
   "outputs": [
    {
     "ename": "ValueError",
     "evalue": "Shape of passed values is (3, 4), indices imply (5, 4)",
     "output_type": "error",
     "traceback": [
      "\u001b[1;31m---------------------------------------------------------------------------\u001b[0m",
      "\u001b[1;31mValueError\u001b[0m                                Traceback (most recent call last)",
      "\u001b[1;32mC:\\Users\\NIKHIT~1\\AppData\\Local\\Temp/ipykernel_8932/2565062638.py\u001b[0m in \u001b[0;36m<module>\u001b[1;34m\u001b[0m\n\u001b[1;32m----> 1\u001b[1;33m \u001b[0mdf\u001b[0m \u001b[1;33m=\u001b[0m \u001b[0mpd\u001b[0m\u001b[1;33m.\u001b[0m\u001b[0mDataFrame\u001b[0m\u001b[1;33m(\u001b[0m\u001b[0mnp\u001b[0m\u001b[1;33m.\u001b[0m\u001b[0mrandom\u001b[0m\u001b[1;33m.\u001b[0m\u001b[0mrandn\u001b[0m\u001b[1;33m(\u001b[0m\u001b[1;36m3\u001b[0m\u001b[1;33m,\u001b[0m\u001b[1;36m4\u001b[0m\u001b[1;33m)\u001b[0m\u001b[1;33m,\u001b[0m\u001b[0mindex\u001b[0m \u001b[1;33m=\u001b[0m \u001b[1;33m[\u001b[0m\u001b[1;34m'mon'\u001b[0m\u001b[1;33m,\u001b[0m\u001b[1;34m'tue'\u001b[0m\u001b[1;33m,\u001b[0m\u001b[1;34m'wed'\u001b[0m\u001b[1;33m,\u001b[0m\u001b[1;34m'thu'\u001b[0m\u001b[1;33m,\u001b[0m\u001b[1;34m'fri'\u001b[0m\u001b[1;33m]\u001b[0m\u001b[1;33m,\u001b[0m\u001b[0mcolumns\u001b[0m\u001b[1;33m=\u001b[0m\u001b[1;33m[\u001b[0m\u001b[1;34m'a'\u001b[0m\u001b[1;33m,\u001b[0m\u001b[1;34m'b'\u001b[0m\u001b[1;33m,\u001b[0m\u001b[1;34m'c'\u001b[0m\u001b[1;33m,\u001b[0m\u001b[1;34m'd'\u001b[0m\u001b[1;33m]\u001b[0m\u001b[1;33m)\u001b[0m\u001b[1;33m\u001b[0m\u001b[1;33m\u001b[0m\u001b[0m\n\u001b[0m",
      "\u001b[1;32m~\\anaconda3\\lib\\site-packages\\pandas\\core\\frame.py\u001b[0m in \u001b[0;36m__init__\u001b[1;34m(self, data, index, columns, dtype, copy)\u001b[0m\n\u001b[0;32m    670\u001b[0m                 )\n\u001b[0;32m    671\u001b[0m             \u001b[1;32melse\u001b[0m\u001b[1;33m:\u001b[0m\u001b[1;33m\u001b[0m\u001b[1;33m\u001b[0m\u001b[0m\n\u001b[1;32m--> 672\u001b[1;33m                 mgr = ndarray_to_mgr(\n\u001b[0m\u001b[0;32m    673\u001b[0m                     \u001b[0mdata\u001b[0m\u001b[1;33m,\u001b[0m\u001b[1;33m\u001b[0m\u001b[1;33m\u001b[0m\u001b[0m\n\u001b[0;32m    674\u001b[0m                     \u001b[0mindex\u001b[0m\u001b[1;33m,\u001b[0m\u001b[1;33m\u001b[0m\u001b[1;33m\u001b[0m\u001b[0m\n",
      "\u001b[1;32m~\\anaconda3\\lib\\site-packages\\pandas\\core\\internals\\construction.py\u001b[0m in \u001b[0;36mndarray_to_mgr\u001b[1;34m(values, index, columns, dtype, copy, typ)\u001b[0m\n\u001b[0;32m    322\u001b[0m     )\n\u001b[0;32m    323\u001b[0m \u001b[1;33m\u001b[0m\u001b[0m\n\u001b[1;32m--> 324\u001b[1;33m     \u001b[0m_check_values_indices_shape_match\u001b[0m\u001b[1;33m(\u001b[0m\u001b[0mvalues\u001b[0m\u001b[1;33m,\u001b[0m \u001b[0mindex\u001b[0m\u001b[1;33m,\u001b[0m \u001b[0mcolumns\u001b[0m\u001b[1;33m)\u001b[0m\u001b[1;33m\u001b[0m\u001b[1;33m\u001b[0m\u001b[0m\n\u001b[0m\u001b[0;32m    325\u001b[0m \u001b[1;33m\u001b[0m\u001b[0m\n\u001b[0;32m    326\u001b[0m     \u001b[1;32mif\u001b[0m \u001b[0mtyp\u001b[0m \u001b[1;33m==\u001b[0m \u001b[1;34m\"array\"\u001b[0m\u001b[1;33m:\u001b[0m\u001b[1;33m\u001b[0m\u001b[1;33m\u001b[0m\u001b[0m\n",
      "\u001b[1;32m~\\anaconda3\\lib\\site-packages\\pandas\\core\\internals\\construction.py\u001b[0m in \u001b[0;36m_check_values_indices_shape_match\u001b[1;34m(values, index, columns)\u001b[0m\n\u001b[0;32m    391\u001b[0m         \u001b[0mpassed\u001b[0m \u001b[1;33m=\u001b[0m \u001b[0mvalues\u001b[0m\u001b[1;33m.\u001b[0m\u001b[0mshape\u001b[0m\u001b[1;33m\u001b[0m\u001b[1;33m\u001b[0m\u001b[0m\n\u001b[0;32m    392\u001b[0m         \u001b[0mimplied\u001b[0m \u001b[1;33m=\u001b[0m \u001b[1;33m(\u001b[0m\u001b[0mlen\u001b[0m\u001b[1;33m(\u001b[0m\u001b[0mindex\u001b[0m\u001b[1;33m)\u001b[0m\u001b[1;33m,\u001b[0m \u001b[0mlen\u001b[0m\u001b[1;33m(\u001b[0m\u001b[0mcolumns\u001b[0m\u001b[1;33m)\u001b[0m\u001b[1;33m)\u001b[0m\u001b[1;33m\u001b[0m\u001b[1;33m\u001b[0m\u001b[0m\n\u001b[1;32m--> 393\u001b[1;33m         \u001b[1;32mraise\u001b[0m \u001b[0mValueError\u001b[0m\u001b[1;33m(\u001b[0m\u001b[1;34mf\"Shape of passed values is {passed}, indices imply {implied}\"\u001b[0m\u001b[1;33m)\u001b[0m\u001b[1;33m\u001b[0m\u001b[1;33m\u001b[0m\u001b[0m\n\u001b[0m\u001b[0;32m    394\u001b[0m \u001b[1;33m\u001b[0m\u001b[0m\n\u001b[0;32m    395\u001b[0m \u001b[1;33m\u001b[0m\u001b[0m\n",
      "\u001b[1;31mValueError\u001b[0m: Shape of passed values is (3, 4), indices imply (5, 4)"
     ]
    }
   ],
   "source": [
    "df = pd.DataFrame(np.random.randn(3,4),index = ['mon','tue','wed','thu','fri'],columns=['a','b','c','d'])"
   ]
  },
  {
   "cell_type": "code",
   "execution_count": 120,
   "id": "b1943978",
   "metadata": {},
   "outputs": [],
   "source": [
    "df = pd.DataFrame({'Day':['Mon','Tue','Wed','Thu','Fri'],'Temp':[12,16,22,25,21],'Rained?':['No','yes','No','Yes','no']})"
   ]
  },
  {
   "cell_type": "code",
   "execution_count": 121,
   "id": "662cd09c",
   "metadata": {},
   "outputs": [],
   "source": [
    "# indexing\n",
    "#[]-->access columns by label and then index for rows\n",
    "#loc --> Access data purely by labels ( attribute names)\n",
    "#iloc --> pure integer based indexing\n"
   ]
  },
  {
   "cell_type": "code",
   "execution_count": 122,
   "id": "016349a6",
   "metadata": {},
   "outputs": [
    {
     "data": {
      "text/html": [
       "<div>\n",
       "<style scoped>\n",
       "    .dataframe tbody tr th:only-of-type {\n",
       "        vertical-align: middle;\n",
       "    }\n",
       "\n",
       "    .dataframe tbody tr th {\n",
       "        vertical-align: top;\n",
       "    }\n",
       "\n",
       "    .dataframe thead th {\n",
       "        text-align: right;\n",
       "    }\n",
       "</style>\n",
       "<table border=\"1\" class=\"dataframe\">\n",
       "  <thead>\n",
       "    <tr style=\"text-align: right;\">\n",
       "      <th></th>\n",
       "      <th>Day</th>\n",
       "      <th>Temp</th>\n",
       "      <th>Rained?</th>\n",
       "    </tr>\n",
       "  </thead>\n",
       "  <tbody>\n",
       "    <tr>\n",
       "      <th>0</th>\n",
       "      <td>Mon</td>\n",
       "      <td>12</td>\n",
       "      <td>No</td>\n",
       "    </tr>\n",
       "    <tr>\n",
       "      <th>1</th>\n",
       "      <td>Tue</td>\n",
       "      <td>16</td>\n",
       "      <td>yes</td>\n",
       "    </tr>\n",
       "    <tr>\n",
       "      <th>2</th>\n",
       "      <td>Wed</td>\n",
       "      <td>22</td>\n",
       "      <td>No</td>\n",
       "    </tr>\n",
       "    <tr>\n",
       "      <th>3</th>\n",
       "      <td>Thu</td>\n",
       "      <td>25</td>\n",
       "      <td>Yes</td>\n",
       "    </tr>\n",
       "    <tr>\n",
       "      <th>4</th>\n",
       "      <td>Fri</td>\n",
       "      <td>21</td>\n",
       "      <td>no</td>\n",
       "    </tr>\n",
       "  </tbody>\n",
       "</table>\n",
       "</div>"
      ],
      "text/plain": [
       "   Day  Temp Rained?\n",
       "0  Mon    12      No\n",
       "1  Tue    16     yes\n",
       "2  Wed    22      No\n",
       "3  Thu    25     Yes\n",
       "4  Fri    21      no"
      ]
     },
     "execution_count": 122,
     "metadata": {},
     "output_type": "execute_result"
    }
   ],
   "source": [
    "df"
   ]
  },
  {
   "cell_type": "code",
   "execution_count": 123,
   "id": "c757483d",
   "metadata": {},
   "outputs": [
    {
     "data": {
      "text/plain": [
       "0    Mon\n",
       "1    Tue\n",
       "2    Wed\n",
       "3    Thu\n",
       "4    Fri\n",
       "Name: Day, dtype: object"
      ]
     },
     "execution_count": 123,
     "metadata": {},
     "output_type": "execute_result"
    }
   ],
   "source": [
    "df['Day']"
   ]
  },
  {
   "cell_type": "code",
   "execution_count": 124,
   "id": "e0906d29",
   "metadata": {},
   "outputs": [
    {
     "data": {
      "text/html": [
       "<div>\n",
       "<style scoped>\n",
       "    .dataframe tbody tr th:only-of-type {\n",
       "        vertical-align: middle;\n",
       "    }\n",
       "\n",
       "    .dataframe tbody tr th {\n",
       "        vertical-align: top;\n",
       "    }\n",
       "\n",
       "    .dataframe thead th {\n",
       "        text-align: right;\n",
       "    }\n",
       "</style>\n",
       "<table border=\"1\" class=\"dataframe\">\n",
       "  <thead>\n",
       "    <tr style=\"text-align: right;\">\n",
       "      <th></th>\n",
       "      <th>Day</th>\n",
       "      <th>Temp</th>\n",
       "    </tr>\n",
       "  </thead>\n",
       "  <tbody>\n",
       "    <tr>\n",
       "      <th>0</th>\n",
       "      <td>Mon</td>\n",
       "      <td>12</td>\n",
       "    </tr>\n",
       "    <tr>\n",
       "      <th>1</th>\n",
       "      <td>Tue</td>\n",
       "      <td>16</td>\n",
       "    </tr>\n",
       "    <tr>\n",
       "      <th>2</th>\n",
       "      <td>Wed</td>\n",
       "      <td>22</td>\n",
       "    </tr>\n",
       "    <tr>\n",
       "      <th>3</th>\n",
       "      <td>Thu</td>\n",
       "      <td>25</td>\n",
       "    </tr>\n",
       "    <tr>\n",
       "      <th>4</th>\n",
       "      <td>Fri</td>\n",
       "      <td>21</td>\n",
       "    </tr>\n",
       "  </tbody>\n",
       "</table>\n",
       "</div>"
      ],
      "text/plain": [
       "   Day  Temp\n",
       "0  Mon    12\n",
       "1  Tue    16\n",
       "2  Wed    22\n",
       "3  Thu    25\n",
       "4  Fri    21"
      ]
     },
     "execution_count": 124,
     "metadata": {},
     "output_type": "execute_result"
    }
   ],
   "source": [
    "df[['Day','Temp']]"
   ]
  },
  {
   "cell_type": "code",
   "execution_count": 125,
   "id": "bfe94050",
   "metadata": {},
   "outputs": [],
   "source": [
    "#row followed by column or column follwed by row anything will work but row u cant access like df[0] , instead u should do like df[0,1]"
   ]
  },
  {
   "cell_type": "code",
   "execution_count": 126,
   "id": "30159669",
   "metadata": {},
   "outputs": [
    {
     "data": {
      "text/html": [
       "<div>\n",
       "<style scoped>\n",
       "    .dataframe tbody tr th:only-of-type {\n",
       "        vertical-align: middle;\n",
       "    }\n",
       "\n",
       "    .dataframe tbody tr th {\n",
       "        vertical-align: top;\n",
       "    }\n",
       "\n",
       "    .dataframe thead th {\n",
       "        text-align: right;\n",
       "    }\n",
       "</style>\n",
       "<table border=\"1\" class=\"dataframe\">\n",
       "  <thead>\n",
       "    <tr style=\"text-align: right;\">\n",
       "      <th></th>\n",
       "      <th>Day</th>\n",
       "      <th>Temp</th>\n",
       "      <th>Rained?</th>\n",
       "    </tr>\n",
       "  </thead>\n",
       "  <tbody>\n",
       "    <tr>\n",
       "      <th>0</th>\n",
       "      <td>Mon</td>\n",
       "      <td>12</td>\n",
       "      <td>No</td>\n",
       "    </tr>\n",
       "  </tbody>\n",
       "</table>\n",
       "</div>"
      ],
      "text/plain": [
       "   Day  Temp Rained?\n",
       "0  Mon    12      No"
      ]
     },
     "execution_count": 126,
     "metadata": {},
     "output_type": "execute_result"
    }
   ],
   "source": [
    "df[0:1]"
   ]
  },
  {
   "cell_type": "code",
   "execution_count": 127,
   "id": "75145b9e",
   "metadata": {},
   "outputs": [
    {
     "data": {
      "text/plain": [
       "0    Mon\n",
       "3    Thu\n",
       "Name: Day, dtype: object"
      ]
     },
     "execution_count": 127,
     "metadata": {},
     "output_type": "execute_result"
    }
   ],
   "source": [
    "df['Day'][[0,3]]"
   ]
  },
  {
   "cell_type": "code",
   "execution_count": 128,
   "id": "b4764442",
   "metadata": {},
   "outputs": [
    {
     "data": {
      "text/plain": [
       "'Tue'"
      ]
     },
     "execution_count": 128,
     "metadata": {},
     "output_type": "execute_result"
    }
   ],
   "source": [
    "df.loc[1]['Day']"
   ]
  },
  {
   "cell_type": "code",
   "execution_count": 129,
   "id": "399dfd3d",
   "metadata": {},
   "outputs": [
    {
     "data": {
      "text/plain": [
       "Day        Tue\n",
       "Rained?    yes\n",
       "Name: 1, dtype: object"
      ]
     },
     "execution_count": 129,
     "metadata": {},
     "output_type": "execute_result"
    }
   ],
   "source": [
    "df.loc[1][['Day','Rained?']]"
   ]
  },
  {
   "cell_type": "code",
   "execution_count": 130,
   "id": "a9308118",
   "metadata": {},
   "outputs": [
    {
     "data": {
      "text/html": [
       "<div>\n",
       "<style scoped>\n",
       "    .dataframe tbody tr th:only-of-type {\n",
       "        vertical-align: middle;\n",
       "    }\n",
       "\n",
       "    .dataframe tbody tr th {\n",
       "        vertical-align: top;\n",
       "    }\n",
       "\n",
       "    .dataframe thead th {\n",
       "        text-align: right;\n",
       "    }\n",
       "</style>\n",
       "<table border=\"1\" class=\"dataframe\">\n",
       "  <thead>\n",
       "    <tr style=\"text-align: right;\">\n",
       "      <th></th>\n",
       "      <th>Day</th>\n",
       "      <th>Rained?</th>\n",
       "    </tr>\n",
       "  </thead>\n",
       "  <tbody>\n",
       "    <tr>\n",
       "      <th>1</th>\n",
       "      <td>Tue</td>\n",
       "      <td>yes</td>\n",
       "    </tr>\n",
       "    <tr>\n",
       "      <th>4</th>\n",
       "      <td>Fri</td>\n",
       "      <td>no</td>\n",
       "    </tr>\n",
       "  </tbody>\n",
       "</table>\n",
       "</div>"
      ],
      "text/plain": [
       "   Day Rained?\n",
       "1  Tue     yes\n",
       "4  Fri      no"
      ]
     },
     "execution_count": 130,
     "metadata": {},
     "output_type": "execute_result"
    }
   ],
   "source": [
    "df.iloc[[1,4],::2]"
   ]
  },
  {
   "cell_type": "code",
   "execution_count": 141,
   "id": "1ac2d9ce",
   "metadata": {},
   "outputs": [],
   "source": [
    "df['cloud']=['yes','yes','no','yes','no']"
   ]
  },
  {
   "cell_type": "code",
   "execution_count": 132,
   "id": "309ea39a",
   "metadata": {},
   "outputs": [
    {
     "data": {
      "text/html": [
       "<div>\n",
       "<style scoped>\n",
       "    .dataframe tbody tr th:only-of-type {\n",
       "        vertical-align: middle;\n",
       "    }\n",
       "\n",
       "    .dataframe tbody tr th {\n",
       "        vertical-align: top;\n",
       "    }\n",
       "\n",
       "    .dataframe thead th {\n",
       "        text-align: right;\n",
       "    }\n",
       "</style>\n",
       "<table border=\"1\" class=\"dataframe\">\n",
       "  <thead>\n",
       "    <tr style=\"text-align: right;\">\n",
       "      <th></th>\n",
       "      <th>Day</th>\n",
       "      <th>Temp</th>\n",
       "      <th>Rained?</th>\n",
       "      <th>cloud</th>\n",
       "    </tr>\n",
       "  </thead>\n",
       "  <tbody>\n",
       "    <tr>\n",
       "      <th>0</th>\n",
       "      <td>Mon</td>\n",
       "      <td>12</td>\n",
       "      <td>No</td>\n",
       "      <td>yes</td>\n",
       "    </tr>\n",
       "    <tr>\n",
       "      <th>1</th>\n",
       "      <td>Tue</td>\n",
       "      <td>16</td>\n",
       "      <td>yes</td>\n",
       "      <td>yes</td>\n",
       "    </tr>\n",
       "    <tr>\n",
       "      <th>2</th>\n",
       "      <td>Wed</td>\n",
       "      <td>22</td>\n",
       "      <td>No</td>\n",
       "      <td>no</td>\n",
       "    </tr>\n",
       "    <tr>\n",
       "      <th>3</th>\n",
       "      <td>Thu</td>\n",
       "      <td>25</td>\n",
       "      <td>Yes</td>\n",
       "      <td>yes</td>\n",
       "    </tr>\n",
       "    <tr>\n",
       "      <th>4</th>\n",
       "      <td>Fri</td>\n",
       "      <td>21</td>\n",
       "      <td>no</td>\n",
       "      <td>no</td>\n",
       "    </tr>\n",
       "  </tbody>\n",
       "</table>\n",
       "</div>"
      ],
      "text/plain": [
       "   Day  Temp Rained? cloud\n",
       "0  Mon    12      No   yes\n",
       "1  Tue    16     yes   yes\n",
       "2  Wed    22      No    no\n",
       "3  Thu    25     Yes   yes\n",
       "4  Fri    21      no    no"
      ]
     },
     "execution_count": 132,
     "metadata": {},
     "output_type": "execute_result"
    }
   ],
   "source": [
    "df\n"
   ]
  },
  {
   "cell_type": "code",
   "execution_count": 133,
   "id": "3a436c36",
   "metadata": {},
   "outputs": [],
   "source": [
    "df.insert(2,\"c1\",[0,1,0,1,0])df"
   ]
  },
  {
   "cell_type": "code",
   "execution_count": 134,
   "id": "2674263d",
   "metadata": {},
   "outputs": [
    {
     "data": {
      "text/html": [
       "<div>\n",
       "<style scoped>\n",
       "    .dataframe tbody tr th:only-of-type {\n",
       "        vertical-align: middle;\n",
       "    }\n",
       "\n",
       "    .dataframe tbody tr th {\n",
       "        vertical-align: top;\n",
       "    }\n",
       "\n",
       "    .dataframe thead th {\n",
       "        text-align: right;\n",
       "    }\n",
       "</style>\n",
       "<table border=\"1\" class=\"dataframe\">\n",
       "  <thead>\n",
       "    <tr style=\"text-align: right;\">\n",
       "      <th></th>\n",
       "      <th>Day</th>\n",
       "      <th>Temp</th>\n",
       "      <th>c1</th>\n",
       "      <th>Rained?</th>\n",
       "      <th>cloud</th>\n",
       "    </tr>\n",
       "  </thead>\n",
       "  <tbody>\n",
       "    <tr>\n",
       "      <th>0</th>\n",
       "      <td>Mon</td>\n",
       "      <td>12</td>\n",
       "      <td>0</td>\n",
       "      <td>No</td>\n",
       "      <td>yes</td>\n",
       "    </tr>\n",
       "    <tr>\n",
       "      <th>1</th>\n",
       "      <td>Tue</td>\n",
       "      <td>16</td>\n",
       "      <td>1</td>\n",
       "      <td>yes</td>\n",
       "      <td>yes</td>\n",
       "    </tr>\n",
       "    <tr>\n",
       "      <th>2</th>\n",
       "      <td>Wed</td>\n",
       "      <td>22</td>\n",
       "      <td>0</td>\n",
       "      <td>No</td>\n",
       "      <td>no</td>\n",
       "    </tr>\n",
       "    <tr>\n",
       "      <th>3</th>\n",
       "      <td>Thu</td>\n",
       "      <td>25</td>\n",
       "      <td>1</td>\n",
       "      <td>Yes</td>\n",
       "      <td>yes</td>\n",
       "    </tr>\n",
       "    <tr>\n",
       "      <th>4</th>\n",
       "      <td>Fri</td>\n",
       "      <td>21</td>\n",
       "      <td>0</td>\n",
       "      <td>no</td>\n",
       "      <td>no</td>\n",
       "    </tr>\n",
       "  </tbody>\n",
       "</table>\n",
       "</div>"
      ],
      "text/plain": [
       "   Day  Temp  c1 Rained? cloud\n",
       "0  Mon    12   0      No   yes\n",
       "1  Tue    16   1     yes   yes\n",
       "2  Wed    22   0      No    no\n",
       "3  Thu    25   1     Yes   yes\n",
       "4  Fri    21   0      no    no"
      ]
     },
     "execution_count": 134,
     "metadata": {},
     "output_type": "execute_result"
    }
   ],
   "source": [
    "df"
   ]
  },
  {
   "cell_type": "code",
   "execution_count": 136,
   "id": "fad3cdad",
   "metadata": {},
   "outputs": [],
   "source": [
    "df.drop('cloud',axis = 1,inplace=True) # axis=0 means cloud is a row name , axis = 1 means cloud is a col name, inplace means rechecking if its real that we want to drop or not"
   ]
  },
  {
   "cell_type": "code",
   "execution_count": 138,
   "id": "07a16bf7",
   "metadata": {},
   "outputs": [
    {
     "data": {
      "text/html": [
       "<div>\n",
       "<style scoped>\n",
       "    .dataframe tbody tr th:only-of-type {\n",
       "        vertical-align: middle;\n",
       "    }\n",
       "\n",
       "    .dataframe tbody tr th {\n",
       "        vertical-align: top;\n",
       "    }\n",
       "\n",
       "    .dataframe thead th {\n",
       "        text-align: right;\n",
       "    }\n",
       "</style>\n",
       "<table border=\"1\" class=\"dataframe\">\n",
       "  <thead>\n",
       "    <tr style=\"text-align: right;\">\n",
       "      <th></th>\n",
       "      <th>Day</th>\n",
       "      <th>Temp</th>\n",
       "      <th>c1</th>\n",
       "      <th>Rained?</th>\n",
       "    </tr>\n",
       "  </thead>\n",
       "  <tbody>\n",
       "    <tr>\n",
       "      <th>0</th>\n",
       "      <td>Mon</td>\n",
       "      <td>12</td>\n",
       "      <td>0</td>\n",
       "      <td>No</td>\n",
       "    </tr>\n",
       "    <tr>\n",
       "      <th>1</th>\n",
       "      <td>Tue</td>\n",
       "      <td>16</td>\n",
       "      <td>1</td>\n",
       "      <td>yes</td>\n",
       "    </tr>\n",
       "    <tr>\n",
       "      <th>2</th>\n",
       "      <td>Wed</td>\n",
       "      <td>22</td>\n",
       "      <td>0</td>\n",
       "      <td>No</td>\n",
       "    </tr>\n",
       "    <tr>\n",
       "      <th>3</th>\n",
       "      <td>Thu</td>\n",
       "      <td>25</td>\n",
       "      <td>1</td>\n",
       "      <td>Yes</td>\n",
       "    </tr>\n",
       "    <tr>\n",
       "      <th>4</th>\n",
       "      <td>Fri</td>\n",
       "      <td>21</td>\n",
       "      <td>0</td>\n",
       "      <td>no</td>\n",
       "    </tr>\n",
       "  </tbody>\n",
       "</table>\n",
       "</div>"
      ],
      "text/plain": [
       "   Day  Temp  c1 Rained?\n",
       "0  Mon    12   0      No\n",
       "1  Tue    16   1     yes\n",
       "2  Wed    22   0      No\n",
       "3  Thu    25   1     Yes\n",
       "4  Fri    21   0      no"
      ]
     },
     "execution_count": 138,
     "metadata": {},
     "output_type": "execute_result"
    }
   ],
   "source": [
    "df"
   ]
  },
  {
   "cell_type": "code",
   "execution_count": 139,
   "id": "20a7434e",
   "metadata": {},
   "outputs": [
    {
     "data": {
      "text/html": [
       "<div>\n",
       "<style scoped>\n",
       "    .dataframe tbody tr th:only-of-type {\n",
       "        vertical-align: middle;\n",
       "    }\n",
       "\n",
       "    .dataframe tbody tr th {\n",
       "        vertical-align: top;\n",
       "    }\n",
       "\n",
       "    .dataframe thead th {\n",
       "        text-align: right;\n",
       "    }\n",
       "</style>\n",
       "<table border=\"1\" class=\"dataframe\">\n",
       "  <thead>\n",
       "    <tr style=\"text-align: right;\">\n",
       "      <th></th>\n",
       "      <th>Day</th>\n",
       "      <th>Temp</th>\n",
       "      <th>c1</th>\n",
       "      <th>Rained?</th>\n",
       "    </tr>\n",
       "  </thead>\n",
       "  <tbody>\n",
       "    <tr>\n",
       "      <th>1</th>\n",
       "      <td>Tue</td>\n",
       "      <td>16</td>\n",
       "      <td>1</td>\n",
       "      <td>yes</td>\n",
       "    </tr>\n",
       "    <tr>\n",
       "      <th>3</th>\n",
       "      <td>Thu</td>\n",
       "      <td>25</td>\n",
       "      <td>1</td>\n",
       "      <td>Yes</td>\n",
       "    </tr>\n",
       "  </tbody>\n",
       "</table>\n",
       "</div>"
      ],
      "text/plain": [
       "   Day  Temp  c1 Rained?\n",
       "1  Tue    16   1     yes\n",
       "3  Thu    25   1     Yes"
      ]
     },
     "execution_count": 139,
     "metadata": {},
     "output_type": "execute_result"
    }
   ],
   "source": [
    "df[df['Rained?'].str.lower()=='yes']"
   ]
  },
  {
   "cell_type": "code",
   "execution_count": 140,
   "id": "eed5ead4",
   "metadata": {},
   "outputs": [
    {
     "data": {
      "text/html": [
       "<div>\n",
       "<style scoped>\n",
       "    .dataframe tbody tr th:only-of-type {\n",
       "        vertical-align: middle;\n",
       "    }\n",
       "\n",
       "    .dataframe tbody tr th {\n",
       "        vertical-align: top;\n",
       "    }\n",
       "\n",
       "    .dataframe thead th {\n",
       "        text-align: right;\n",
       "    }\n",
       "</style>\n",
       "<table border=\"1\" class=\"dataframe\">\n",
       "  <thead>\n",
       "    <tr style=\"text-align: right;\">\n",
       "      <th></th>\n",
       "      <th>Day</th>\n",
       "      <th>Temp</th>\n",
       "      <th>c1</th>\n",
       "      <th>Rained?</th>\n",
       "    </tr>\n",
       "  </thead>\n",
       "  <tbody>\n",
       "    <tr>\n",
       "      <th>3</th>\n",
       "      <td>Thu</td>\n",
       "      <td>25</td>\n",
       "      <td>1</td>\n",
       "      <td>Yes</td>\n",
       "    </tr>\n",
       "  </tbody>\n",
       "</table>\n",
       "</div>"
      ],
      "text/plain": [
       "   Day  Temp  c1 Rained?\n",
       "3  Thu    25   1     Yes"
      ]
     },
     "execution_count": 140,
     "metadata": {},
     "output_type": "execute_result"
    }
   ],
   "source": [
    "df[(df['Rained?'].str.lower()=='yes') & (df['Temp']>20)]"
   ]
  },
  {
   "cell_type": "code",
   "execution_count": 142,
   "id": "c7522241",
   "metadata": {},
   "outputs": [
    {
     "data": {
      "text/plain": [
       "array(['yes', 'no'], dtype=object)"
      ]
     },
     "execution_count": 142,
     "metadata": {},
     "output_type": "execute_result"
    }
   ],
   "source": [
    "df['cloud'].unique()"
   ]
  },
  {
   "cell_type": "code",
   "execution_count": 144,
   "id": "444ecf7c",
   "metadata": {},
   "outputs": [
    {
     "data": {
      "text/plain": [
       "2"
      ]
     },
     "execution_count": 144,
     "metadata": {},
     "output_type": "execute_result"
    }
   ],
   "source": [
    "df['cloud'].nunique() # number of unique"
   ]
  },
  {
   "cell_type": "code",
   "execution_count": 143,
   "id": "52826fbe",
   "metadata": {},
   "outputs": [
    {
     "data": {
      "text/plain": [
       "yes    3\n",
       "no     2\n",
       "Name: cloud, dtype: int64"
      ]
     },
     "execution_count": 143,
     "metadata": {},
     "output_type": "execute_result"
    }
   ],
   "source": [
    "df['cloud'].value_counts()"
   ]
  },
  {
   "cell_type": "code",
   "execution_count": 149,
   "id": "14099c36",
   "metadata": {},
   "outputs": [],
   "source": [
    "date=pd.date_range('20221020',periods=6,freq='M')"
   ]
  },
  {
   "cell_type": "code",
   "execution_count": 151,
   "id": "31b102ef",
   "metadata": {},
   "outputs": [],
   "source": [
    "stock = pd.DataFrame(np.random.randn(6,4),columns=['open_price','close_price','high','low'], index=date)"
   ]
  },
  {
   "cell_type": "code",
   "execution_count": 152,
   "id": "fc18b27d",
   "metadata": {},
   "outputs": [
    {
     "data": {
      "text/html": [
       "<div>\n",
       "<style scoped>\n",
       "    .dataframe tbody tr th:only-of-type {\n",
       "        vertical-align: middle;\n",
       "    }\n",
       "\n",
       "    .dataframe tbody tr th {\n",
       "        vertical-align: top;\n",
       "    }\n",
       "\n",
       "    .dataframe thead th {\n",
       "        text-align: right;\n",
       "    }\n",
       "</style>\n",
       "<table border=\"1\" class=\"dataframe\">\n",
       "  <thead>\n",
       "    <tr style=\"text-align: right;\">\n",
       "      <th></th>\n",
       "      <th>open_price</th>\n",
       "      <th>close_price</th>\n",
       "      <th>high</th>\n",
       "      <th>low</th>\n",
       "    </tr>\n",
       "  </thead>\n",
       "  <tbody>\n",
       "    <tr>\n",
       "      <th>2022-10-31</th>\n",
       "      <td>0.860401</td>\n",
       "      <td>-1.440624</td>\n",
       "      <td>-0.465086</td>\n",
       "      <td>1.516506</td>\n",
       "    </tr>\n",
       "    <tr>\n",
       "      <th>2022-11-30</th>\n",
       "      <td>0.850869</td>\n",
       "      <td>0.253800</td>\n",
       "      <td>-0.635767</td>\n",
       "      <td>1.566524</td>\n",
       "    </tr>\n",
       "    <tr>\n",
       "      <th>2022-12-31</th>\n",
       "      <td>-0.659039</td>\n",
       "      <td>-1.769518</td>\n",
       "      <td>0.013293</td>\n",
       "      <td>-0.323985</td>\n",
       "    </tr>\n",
       "    <tr>\n",
       "      <th>2023-01-31</th>\n",
       "      <td>-1.188212</td>\n",
       "      <td>-1.654645</td>\n",
       "      <td>0.021894</td>\n",
       "      <td>-1.751822</td>\n",
       "    </tr>\n",
       "    <tr>\n",
       "      <th>2023-02-28</th>\n",
       "      <td>0.925626</td>\n",
       "      <td>-0.326075</td>\n",
       "      <td>0.678010</td>\n",
       "      <td>0.794352</td>\n",
       "    </tr>\n",
       "    <tr>\n",
       "      <th>2023-03-31</th>\n",
       "      <td>-1.453000</td>\n",
       "      <td>1.191693</td>\n",
       "      <td>-0.185041</td>\n",
       "      <td>-0.574296</td>\n",
       "    </tr>\n",
       "  </tbody>\n",
       "</table>\n",
       "</div>"
      ],
      "text/plain": [
       "            open_price  close_price      high       low\n",
       "2022-10-31    0.860401    -1.440624 -0.465086  1.516506\n",
       "2022-11-30    0.850869     0.253800 -0.635767  1.566524\n",
       "2022-12-31   -0.659039    -1.769518  0.013293 -0.323985\n",
       "2023-01-31   -1.188212    -1.654645  0.021894 -1.751822\n",
       "2023-02-28    0.925626    -0.326075  0.678010  0.794352\n",
       "2023-03-31   -1.453000     1.191693 -0.185041 -0.574296"
      ]
     },
     "execution_count": 152,
     "metadata": {},
     "output_type": "execute_result"
    }
   ],
   "source": [
    "stock"
   ]
  },
  {
   "cell_type": "code",
   "execution_count": 156,
   "id": "02600b24",
   "metadata": {},
   "outputs": [
    {
     "data": {
      "text/plain": [
       "DatetimeIndex(['2022-10-31', '2022-11-30', '2022-12-31', '2023-01-31',\n",
       "               '2023-02-28', '2023-03-31'],\n",
       "              dtype='datetime64[ns]', freq='M')"
      ]
     },
     "execution_count": 156,
     "metadata": {},
     "output_type": "execute_result"
    }
   ],
   "source": [
    "stock.index"
   ]
  },
  {
   "cell_type": "code",
   "execution_count": 157,
   "id": "86aca392",
   "metadata": {},
   "outputs": [
    {
     "data": {
      "text/html": [
       "<div>\n",
       "<style scoped>\n",
       "    .dataframe tbody tr th:only-of-type {\n",
       "        vertical-align: middle;\n",
       "    }\n",
       "\n",
       "    .dataframe tbody tr th {\n",
       "        vertical-align: top;\n",
       "    }\n",
       "\n",
       "    .dataframe thead th {\n",
       "        text-align: right;\n",
       "    }\n",
       "</style>\n",
       "<table border=\"1\" class=\"dataframe\">\n",
       "  <thead>\n",
       "    <tr style=\"text-align: right;\">\n",
       "      <th></th>\n",
       "      <th>open_price</th>\n",
       "      <th>close_price</th>\n",
       "      <th>high</th>\n",
       "      <th>low</th>\n",
       "    </tr>\n",
       "  </thead>\n",
       "  <tbody>\n",
       "    <tr>\n",
       "      <th>2023-03-31</th>\n",
       "      <td>-1.453000</td>\n",
       "      <td>1.191693</td>\n",
       "      <td>-0.185041</td>\n",
       "      <td>-0.574296</td>\n",
       "    </tr>\n",
       "    <tr>\n",
       "      <th>2023-02-28</th>\n",
       "      <td>0.925626</td>\n",
       "      <td>-0.326075</td>\n",
       "      <td>0.678010</td>\n",
       "      <td>0.794352</td>\n",
       "    </tr>\n",
       "    <tr>\n",
       "      <th>2023-01-31</th>\n",
       "      <td>-1.188212</td>\n",
       "      <td>-1.654645</td>\n",
       "      <td>0.021894</td>\n",
       "      <td>-1.751822</td>\n",
       "    </tr>\n",
       "    <tr>\n",
       "      <th>2022-12-31</th>\n",
       "      <td>-0.659039</td>\n",
       "      <td>-1.769518</td>\n",
       "      <td>0.013293</td>\n",
       "      <td>-0.323985</td>\n",
       "    </tr>\n",
       "    <tr>\n",
       "      <th>2022-11-30</th>\n",
       "      <td>0.850869</td>\n",
       "      <td>0.253800</td>\n",
       "      <td>-0.635767</td>\n",
       "      <td>1.566524</td>\n",
       "    </tr>\n",
       "    <tr>\n",
       "      <th>2022-10-31</th>\n",
       "      <td>0.860401</td>\n",
       "      <td>-1.440624</td>\n",
       "      <td>-0.465086</td>\n",
       "      <td>1.516506</td>\n",
       "    </tr>\n",
       "  </tbody>\n",
       "</table>\n",
       "</div>"
      ],
      "text/plain": [
       "            open_price  close_price      high       low\n",
       "2023-03-31   -1.453000     1.191693 -0.185041 -0.574296\n",
       "2023-02-28    0.925626    -0.326075  0.678010  0.794352\n",
       "2023-01-31   -1.188212    -1.654645  0.021894 -1.751822\n",
       "2022-12-31   -0.659039    -1.769518  0.013293 -0.323985\n",
       "2022-11-30    0.850869     0.253800 -0.635767  1.566524\n",
       "2022-10-31    0.860401    -1.440624 -0.465086  1.516506"
      ]
     },
     "execution_count": 157,
     "metadata": {},
     "output_type": "execute_result"
    }
   ],
   "source": [
    "stock.sort_index(ascending=False)"
   ]
  },
  {
   "cell_type": "code",
   "execution_count": 158,
   "id": "39bd1c59",
   "metadata": {},
   "outputs": [
    {
     "data": {
      "text/html": [
       "<div>\n",
       "<style scoped>\n",
       "    .dataframe tbody tr th:only-of-type {\n",
       "        vertical-align: middle;\n",
       "    }\n",
       "\n",
       "    .dataframe tbody tr th {\n",
       "        vertical-align: top;\n",
       "    }\n",
       "\n",
       "    .dataframe thead th {\n",
       "        text-align: right;\n",
       "    }\n",
       "</style>\n",
       "<table border=\"1\" class=\"dataframe\">\n",
       "  <thead>\n",
       "    <tr style=\"text-align: right;\">\n",
       "      <th></th>\n",
       "      <th>open_price</th>\n",
       "      <th>close_price</th>\n",
       "      <th>high</th>\n",
       "      <th>low</th>\n",
       "    </tr>\n",
       "  </thead>\n",
       "  <tbody>\n",
       "    <tr>\n",
       "      <th>2022-11-30</th>\n",
       "      <td>0.850869</td>\n",
       "      <td>0.253800</td>\n",
       "      <td>-0.635767</td>\n",
       "      <td>1.566524</td>\n",
       "    </tr>\n",
       "    <tr>\n",
       "      <th>2022-10-31</th>\n",
       "      <td>0.860401</td>\n",
       "      <td>-1.440624</td>\n",
       "      <td>-0.465086</td>\n",
       "      <td>1.516506</td>\n",
       "    </tr>\n",
       "    <tr>\n",
       "      <th>2023-03-31</th>\n",
       "      <td>-1.453000</td>\n",
       "      <td>1.191693</td>\n",
       "      <td>-0.185041</td>\n",
       "      <td>-0.574296</td>\n",
       "    </tr>\n",
       "    <tr>\n",
       "      <th>2022-12-31</th>\n",
       "      <td>-0.659039</td>\n",
       "      <td>-1.769518</td>\n",
       "      <td>0.013293</td>\n",
       "      <td>-0.323985</td>\n",
       "    </tr>\n",
       "    <tr>\n",
       "      <th>2023-01-31</th>\n",
       "      <td>-1.188212</td>\n",
       "      <td>-1.654645</td>\n",
       "      <td>0.021894</td>\n",
       "      <td>-1.751822</td>\n",
       "    </tr>\n",
       "    <tr>\n",
       "      <th>2023-02-28</th>\n",
       "      <td>0.925626</td>\n",
       "      <td>-0.326075</td>\n",
       "      <td>0.678010</td>\n",
       "      <td>0.794352</td>\n",
       "    </tr>\n",
       "  </tbody>\n",
       "</table>\n",
       "</div>"
      ],
      "text/plain": [
       "            open_price  close_price      high       low\n",
       "2022-11-30    0.850869     0.253800 -0.635767  1.566524\n",
       "2022-10-31    0.860401    -1.440624 -0.465086  1.516506\n",
       "2023-03-31   -1.453000     1.191693 -0.185041 -0.574296\n",
       "2022-12-31   -0.659039    -1.769518  0.013293 -0.323985\n",
       "2023-01-31   -1.188212    -1.654645  0.021894 -1.751822\n",
       "2023-02-28    0.925626    -0.326075  0.678010  0.794352"
      ]
     },
     "execution_count": 158,
     "metadata": {},
     "output_type": "execute_result"
    }
   ],
   "source": [
    "stock.sort_values(by=\"high\")"
   ]
  },
  {
   "cell_type": "code",
   "execution_count": 159,
   "id": "674985fd",
   "metadata": {},
   "outputs": [],
   "source": [
    "index = ['FireFox','Chrome','Safari','IE10','Konqueror']\n"
   ]
  },
  {
   "cell_type": "code",
   "execution_count": 162,
   "id": "d3f8946d",
   "metadata": {},
   "outputs": [],
   "source": [
    "df = pd.DataFrame({'http_status':[200,200,404,404,301],'response_time':[0.04,0.02,0.07,0.08,1.0]},index = index)"
   ]
  },
  {
   "cell_type": "code",
   "execution_count": 163,
   "id": "1682f39c",
   "metadata": {},
   "outputs": [],
   "source": [
    "new_index = ['safari','Iceweasel','Comodo Dragon','IE10','Chrome']"
   ]
  },
  {
   "cell_type": "code",
   "execution_count": 164,
   "id": "d3904f71",
   "metadata": {},
   "outputs": [
    {
     "data": {
      "text/html": [
       "<div>\n",
       "<style scoped>\n",
       "    .dataframe tbody tr th:only-of-type {\n",
       "        vertical-align: middle;\n",
       "    }\n",
       "\n",
       "    .dataframe tbody tr th {\n",
       "        vertical-align: top;\n",
       "    }\n",
       "\n",
       "    .dataframe thead th {\n",
       "        text-align: right;\n",
       "    }\n",
       "</style>\n",
       "<table border=\"1\" class=\"dataframe\">\n",
       "  <thead>\n",
       "    <tr style=\"text-align: right;\">\n",
       "      <th></th>\n",
       "      <th>http_status</th>\n",
       "      <th>response_time</th>\n",
       "    </tr>\n",
       "  </thead>\n",
       "  <tbody>\n",
       "    <tr>\n",
       "      <th>safari</th>\n",
       "      <td>NaN</td>\n",
       "      <td>NaN</td>\n",
       "    </tr>\n",
       "    <tr>\n",
       "      <th>Iceweasel</th>\n",
       "      <td>NaN</td>\n",
       "      <td>NaN</td>\n",
       "    </tr>\n",
       "    <tr>\n",
       "      <th>Comodo Dragon</th>\n",
       "      <td>NaN</td>\n",
       "      <td>NaN</td>\n",
       "    </tr>\n",
       "    <tr>\n",
       "      <th>IE10</th>\n",
       "      <td>404.0</td>\n",
       "      <td>0.08</td>\n",
       "    </tr>\n",
       "    <tr>\n",
       "      <th>Chrome</th>\n",
       "      <td>200.0</td>\n",
       "      <td>0.02</td>\n",
       "    </tr>\n",
       "  </tbody>\n",
       "</table>\n",
       "</div>"
      ],
      "text/plain": [
       "               http_status  response_time\n",
       "safari                 NaN            NaN\n",
       "Iceweasel              NaN            NaN\n",
       "Comodo Dragon          NaN            NaN\n",
       "IE10                 404.0           0.08\n",
       "Chrome               200.0           0.02"
      ]
     },
     "execution_count": 164,
     "metadata": {},
     "output_type": "execute_result"
    }
   ],
   "source": [
    "df.reindex(new_index)"
   ]
  },
  {
   "cell_type": "code",
   "execution_count": null,
   "id": "3d31d938",
   "metadata": {},
   "outputs": [],
   "source": [
    "help(pd.MultiIndex)"
   ]
  },
  {
   "cell_type": "code",
   "execution_count": 166,
   "id": "ff8a0da9",
   "metadata": {},
   "outputs": [],
   "source": [
    "# exploratory data analytics"
   ]
  },
  {
   "cell_type": "code",
   "execution_count": null,
   "id": "6676d075",
   "metadata": {},
   "outputs": [],
   "source": [
    "# Data Dictionary\n",
    "# Exploring the data & find out need for clean\n",
    "# insi"
   ]
  }
 ],
 "metadata": {
  "kernelspec": {
   "display_name": "Python 3 (ipykernel)",
   "language": "python",
   "name": "python3"
  },
  "language_info": {
   "codemirror_mode": {
    "name": "ipython",
    "version": 3
   },
   "file_extension": ".py",
   "mimetype": "text/x-python",
   "name": "python",
   "nbconvert_exporter": "python",
   "pygments_lexer": "ipython3",
   "version": "3.9.7"
  }
 },
 "nbformat": 4,
 "nbformat_minor": 5
}
